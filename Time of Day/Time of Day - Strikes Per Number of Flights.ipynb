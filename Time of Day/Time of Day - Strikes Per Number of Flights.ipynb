{
 "cells": [
  {
   "cell_type": "markdown",
   "metadata": {},
   "source": [
    "## Strikes Per Flight, According to Time of Day\n",
    "\n",
    "### Goal\n",
    "\n",
    "The goal of this notebook is look for time-of-day patterns in the frequency of bird strikes.\n",
    "\n",
    "We find the number of bird strikes per flight for each hour of the day. In other words, for each hour (0 to 23), we take the number of bird strikes reported for that hour and divide by the number of flights scheduled to depart during that hour. "
   ]
  },
  {
   "cell_type": "markdown",
   "metadata": {},
   "source": [
    "### Data sources\n",
    "\n",
    "The bird strike data comes from the FAA Wildlife Strike Database: https://wildlife.faa.gov/search\n",
    "\n",
    "The flight data comes from the FAA Aviation System Performance Metrics website: https://aspm.faa.gov/apm/sys/AnalysisAP.asp\n",
    "\n",
    "From both data sets, we use all available data from 2000 to 2019."
   ]
  },
  {
   "cell_type": "markdown",
   "metadata": {},
   "source": [
    "### Caveats\n",
    "\n",
    "1. Approximately half of the strike reports do not have a specific time associated to them. We do not consider these reports here. Therefore, when we talk about the number of strikes reported in a given hour, this is probably lower than the actual number of strikes that occured during that hour.\n",
    "\n",
    "\n",
    "2. For simplicity, when considering the number of flights in a given hour, we have only worked with scheduled departure times. Since bird strikes can happen at other parts of the flight (not just departure), and because many flights are delayed for reasons unrelated to bird strikes, it might be worth considering a more sophisticated way to measure number of flights."
   ]
  },
  {
   "cell_type": "code",
   "execution_count": 1,
   "metadata": {},
   "outputs": [],
   "source": [
    "import numpy as np\n",
    "import pandas as pd\n",
    "import datetime\n",
    "import matplotlib.pyplot as plt"
   ]
  },
  {
   "cell_type": "code",
   "execution_count": 2,
   "metadata": {},
   "outputs": [
    {
     "name": "stderr",
     "output_type": "stream",
     "text": [
      "/usr/local/lib/python3.7/site-packages/IPython/core/interactiveshell.py:3063: DtypeWarning: Columns (14,16,77,86,96,99) have mixed types.Specify dtype option on import or set low_memory=False.\n",
      "  interactivity=interactivity, compiler=compiler, result=result)\n"
     ]
    }
   ],
   "source": [
    "# Load in the strike data\n",
    "strikes = pd.read_csv(\"strikes_2000_2019.csv\")"
   ]
  },
  {
   "cell_type": "code",
   "execution_count": 136,
   "metadata": {},
   "outputs": [],
   "source": [
    "# Make a smaller data frame to focus on the strike time and place\n",
    "strike_times = strikes[['INDX_NR','INCIDENT_DATE ','STATE',\n",
    "                        'AIRPORT_ID', 'OPERATOR_ID','SPECIES_ID',\n",
    "                        'DAMAGE','COST_REPAIRS',\n",
    "                        'INCIDENT_MONTH','INCIDENT_YEAR',\n",
    "                        'TIME_OF_DAY','TIME',\n",
    "                        'FAAREGION','ENROUTE','LOCATION',\n",
    "                        'HEIGHT','SPEED','DISTANCE',\n",
    "                        'PHASE_OF_FLIGHT',\n",
    "                        'EFFECT_NONE', 'EFFECT_ABORTED', \n",
    "                        'EFFECT_PREC_LAND', 'EFFECT_ENG_SHUT', \n",
    "                        'EFFECT_OTH', 'EFFECT_OTHER',\n",
    "                        'SKY', 'PRECIP_FOG', 'PRECIP_RAIN', \n",
    "                        'PRECIP_SNOW', 'PRECIP_NONE', \n",
    "                        'BIRDS_SEEN', 'BIRDS_STRUCK', 'SIZE', \n",
    "                        'WARNED', 'REMARKS', 'AOS',\n",
    "                        'OTHER_COST', 'COST_REPAIRS_INFL_ADJ', \n",
    "                        'COST_OTHER_INFL_ADJ','COMMENT',\n",
    "                        'INDICATED_DAMAGE']]"
   ]
  },
  {
   "cell_type": "code",
   "execution_count": 137,
   "metadata": {},
   "outputs": [
    {
     "name": "stderr",
     "output_type": "stream",
     "text": [
      "/usr/local/lib/python3.7/site-packages/ipykernel_launcher.py:2: SettingWithCopyWarning: \n",
      "A value is trying to be set on a copy of a slice from a DataFrame.\n",
      "Try using .loc[row_indexer,col_indexer] = value instead\n",
      "\n",
      "See the caveats in the documentation: https://pandas.pydata.org/pandas-docs/stable/user_guide/indexing.html#returning-a-view-versus-a-copy\n",
      "  \n"
     ]
    }
   ],
   "source": [
    "# Convert the 'INCIDENT_DATE ' column to datetime format\n",
    "strike_times['INCIDENT_DATE '] = pd.to_datetime(strike_times['INCIDENT_DATE '])"
   ]
  },
  {
   "cell_type": "code",
   "execution_count": 138,
   "metadata": {},
   "outputs": [],
   "source": [
    "# In the TIME column in the original data set, \n",
    "# empty entries are denoted by the string '     '.\n",
    "# Here we replace all strings of 5 spaces with NaN\n",
    "# to make empty entries in the TIME column easier to identify.\n",
    "strike_times = strike_times.replace('     ', np.nan)\n",
    "\n",
    "# Convert the times in the 'TIME' column to datetime format\n",
    "# Unfortunately this assigns a date of 1900-01-01\n",
    "strike_times['TIME'] = pd.to_datetime(strike_times['TIME'], \n",
    "                                      format= '%H:%M')"
   ]
  },
  {
   "cell_type": "markdown",
   "metadata": {},
   "source": [
    "\n",
    "### Toy example: 2018\n",
    "\n",
    "Let's start by looking at the data from 2018 alone."
   ]
  },
  {
   "cell_type": "code",
   "execution_count": 139,
   "metadata": {},
   "outputs": [],
   "source": [
    "# Load in the flight data\n",
    "# The first line of the data file from FAA ASPM contains title information,\n",
    "# and the last line of the data file is a \"Total:\" row\n",
    "# Use skiprows = [0, 26] to avoid reading in these two lines\n",
    "flights_2018 = pd.read_csv(\"flights_hourly/flights_hourly_2018.csv\", \n",
    "                           skiprows = [0, 26])"
   ]
  },
  {
   "cell_type": "code",
   "execution_count": 140,
   "metadata": {
    "scrolled": true
   },
   "outputs": [
    {
     "data": {
      "text/html": [
       "<div>\n",
       "<style scoped>\n",
       "    .dataframe tbody tr th:only-of-type {\n",
       "        vertical-align: middle;\n",
       "    }\n",
       "\n",
       "    .dataframe tbody tr th {\n",
       "        vertical-align: top;\n",
       "    }\n",
       "\n",
       "    .dataframe thead th {\n",
       "        text-align: right;\n",
       "    }\n",
       "</style>\n",
       "<table border=\"1\" class=\"dataframe\">\n",
       "  <thead>\n",
       "    <tr style=\"text-align: right;\">\n",
       "      <th></th>\n",
       "      <th>Hour</th>\n",
       "      <th>ScheduledDepartures</th>\n",
       "      <th>ScheduledArrivals</th>\n",
       "      <th>DeparturesFor MetricComputation</th>\n",
       "      <th>ArrivalsFor MetricComputation</th>\n",
       "      <th>% On-TimeGateDepartures</th>\n",
       "      <th>% On-TimeAirportDepartures</th>\n",
       "      <th>% On-TimeGateArrivals</th>\n",
       "      <th>AverageGateDepartureDelay</th>\n",
       "      <th>AverageTaxiOutTime</th>\n",
       "      <th>AverageTaxiOutDelay</th>\n",
       "      <th>AverageAirportDepartureDelay</th>\n",
       "      <th>AverageAirborneDelay</th>\n",
       "      <th>AverageTaxiInDelay</th>\n",
       "      <th>AverageBlockDelay</th>\n",
       "      <th>AverageGateArrivalDelay</th>\n",
       "    </tr>\n",
       "  </thead>\n",
       "  <tbody>\n",
       "    <tr>\n",
       "      <th>0</th>\n",
       "      <td>0</td>\n",
       "      <td>31874</td>\n",
       "      <td>97603</td>\n",
       "      <td>40015</td>\n",
       "      <td>141108</td>\n",
       "      <td>77.31</td>\n",
       "      <td>69.42</td>\n",
       "      <td>78.86</td>\n",
       "      <td>10.28</td>\n",
       "      <td>16.61</td>\n",
       "      <td>4.85</td>\n",
       "      <td>13.85</td>\n",
       "      <td>2.02</td>\n",
       "      <td>2.41</td>\n",
       "      <td>3.82</td>\n",
       "      <td>10.32</td>\n",
       "    </tr>\n",
       "    <tr>\n",
       "      <th>1</th>\n",
       "      <td>1</td>\n",
       "      <td>16940</td>\n",
       "      <td>21609</td>\n",
       "      <td>27804</td>\n",
       "      <td>45034</td>\n",
       "      <td>78.34</td>\n",
       "      <td>71.98</td>\n",
       "      <td>78.07</td>\n",
       "      <td>9.75</td>\n",
       "      <td>15.84</td>\n",
       "      <td>4.22</td>\n",
       "      <td>12.78</td>\n",
       "      <td>2.29</td>\n",
       "      <td>1.77</td>\n",
       "      <td>3.92</td>\n",
       "      <td>10.77</td>\n",
       "    </tr>\n",
       "    <tr>\n",
       "      <th>2</th>\n",
       "      <td>2</td>\n",
       "      <td>5890</td>\n",
       "      <td>5266</td>\n",
       "      <td>28592</td>\n",
       "      <td>18915</td>\n",
       "      <td>72.18</td>\n",
       "      <td>68.81</td>\n",
       "      <td>75.41</td>\n",
       "      <td>12.83</td>\n",
       "      <td>13.11</td>\n",
       "      <td>2.75</td>\n",
       "      <td>14.73</td>\n",
       "      <td>2.04</td>\n",
       "      <td>1.67</td>\n",
       "      <td>3.90</td>\n",
       "      <td>12.57</td>\n",
       "    </tr>\n",
       "    <tr>\n",
       "      <th>3</th>\n",
       "      <td>3</td>\n",
       "      <td>4399</td>\n",
       "      <td>2350</td>\n",
       "      <td>55006</td>\n",
       "      <td>14473</td>\n",
       "      <td>59.35</td>\n",
       "      <td>54.46</td>\n",
       "      <td>70.68</td>\n",
       "      <td>17.66</td>\n",
       "      <td>14.04</td>\n",
       "      <td>3.11</td>\n",
       "      <td>20.25</td>\n",
       "      <td>2.13</td>\n",
       "      <td>1.79</td>\n",
       "      <td>3.62</td>\n",
       "      <td>15.13</td>\n",
       "    </tr>\n",
       "    <tr>\n",
       "      <th>4</th>\n",
       "      <td>4</td>\n",
       "      <td>3066</td>\n",
       "      <td>17232</td>\n",
       "      <td>44859</td>\n",
       "      <td>44018</td>\n",
       "      <td>54.90</td>\n",
       "      <td>49.10</td>\n",
       "      <td>74.64</td>\n",
       "      <td>20.19</td>\n",
       "      <td>14.60</td>\n",
       "      <td>3.72</td>\n",
       "      <td>23.38</td>\n",
       "      <td>1.31</td>\n",
       "      <td>1.98</td>\n",
       "      <td>3.13</td>\n",
       "      <td>11.96</td>\n",
       "    </tr>\n",
       "  </tbody>\n",
       "</table>\n",
       "</div>"
      ],
      "text/plain": [
       "   Hour  ScheduledDepartures  ScheduledArrivals  \\\n",
       "0     0                31874              97603   \n",
       "1     1                16940              21609   \n",
       "2     2                 5890               5266   \n",
       "3     3                 4399               2350   \n",
       "4     4                 3066              17232   \n",
       "\n",
       "   DeparturesFor MetricComputation  ArrivalsFor MetricComputation  \\\n",
       "0                            40015                         141108   \n",
       "1                            27804                          45034   \n",
       "2                            28592                          18915   \n",
       "3                            55006                          14473   \n",
       "4                            44859                          44018   \n",
       "\n",
       "   % On-TimeGateDepartures  % On-TimeAirportDepartures  % On-TimeGateArrivals  \\\n",
       "0                    77.31                       69.42                  78.86   \n",
       "1                    78.34                       71.98                  78.07   \n",
       "2                    72.18                       68.81                  75.41   \n",
       "3                    59.35                       54.46                  70.68   \n",
       "4                    54.90                       49.10                  74.64   \n",
       "\n",
       "   AverageGateDepartureDelay  AverageTaxiOutTime  AverageTaxiOutDelay  \\\n",
       "0                      10.28               16.61                 4.85   \n",
       "1                       9.75               15.84                 4.22   \n",
       "2                      12.83               13.11                 2.75   \n",
       "3                      17.66               14.04                 3.11   \n",
       "4                      20.19               14.60                 3.72   \n",
       "\n",
       "   AverageAirportDepartureDelay  AverageAirborneDelay  AverageTaxiInDelay  \\\n",
       "0                         13.85                  2.02                2.41   \n",
       "1                         12.78                  2.29                1.77   \n",
       "2                         14.73                  2.04                1.67   \n",
       "3                         20.25                  2.13                1.79   \n",
       "4                         23.38                  1.31                1.98   \n",
       "\n",
       "   AverageBlockDelay  AverageGateArrivalDelay  \n",
       "0               3.82                    10.32  \n",
       "1               3.92                    10.77  \n",
       "2               3.90                    12.57  \n",
       "3               3.62                    15.13  \n",
       "4               3.13                    11.96  "
      ]
     },
     "execution_count": 140,
     "metadata": {},
     "output_type": "execute_result"
    }
   ],
   "source": [
    "flights_2018.head()"
   ]
  },
  {
   "cell_type": "code",
   "execution_count": 141,
   "metadata": {},
   "outputs": [],
   "source": [
    "strike_times_2018 = strike_times.loc[strike_times['INCIDENT_DATE '].dt.year == 2018]"
   ]
  },
  {
   "cell_type": "code",
   "execution_count": 149,
   "metadata": {},
   "outputs": [],
   "source": [
    "# Reported strikes each hour\n",
    "strikes_hourly_2018 = strike_times_2018['TIME'].groupby(strike_times_2018['TIME'].dt.hour).count()\n",
    "\n",
    "# Flights scheduled to depart each hour\n",
    "flights_hourly_2018 = flights_2018['ScheduledDepartures']\n",
    "\n",
    "# Strikes per flight each hour\n",
    "strikes_per_flight_hourly_2018 = [strikes_hourly_2018[h]/flights_hourly_2018[h] for h in range(0,24)]"
   ]
  },
  {
   "cell_type": "code",
   "execution_count": 143,
   "metadata": {},
   "outputs": [
    {
     "data": {
      "text/plain": [
       "<BarContainer object of 24 artists>"
      ]
     },
     "execution_count": 143,
     "metadata": {},
     "output_type": "execute_result"
    },
    {
     "data": {
      "image/png": "[encoded data removed]",
      "text/plain": [
       "<Figure size 720x720 with 1 Axes>"
      ]
     },
     "metadata": {
      "needs_background": "light"
     },
     "output_type": "display_data"
    }
   ],
   "source": [
    "# Plot the strikes per flight for each hour of the day\n",
    "\n",
    "plt.figure(figsize=(10,10))\n",
    "\n",
    "plt.xlabel('Hour', fontsize=14)\n",
    "plt.ylabel('Strikes per 1000 flights in 2018', fontsize=14)\n",
    "\n",
    "plt.xticks(range(0,24))\n",
    "\n",
    "plt.bar(range(0,24), [1000*i for i in strikes_per_flight_hourly_2018])"
   ]
  },
  {
   "cell_type": "markdown",
   "metadata": {},
   "source": [
    "### Strikes reported per 1000 flights, each hour: 2000-2019\n",
    "\n",
    "We'll do something similar to the above, but with the whole data set."
   ]
  },
  {
   "cell_type": "code",
   "execution_count": 144,
   "metadata": {},
   "outputs": [],
   "source": [
    "# Load in the flight data for each year from 2000 through 2019\n",
    "# Store it as a list called flights,\n",
    "# where flights[i] = the data frame for the year 2000+i\n",
    "\n",
    "flights = []\n",
    "\n",
    "for year in range(0, 20):\n",
    "    flight_df = pd.read_csv(\"flights_hourly/flights_hourly_{}.csv\".format(str(2000+year)), skiprows = [0, 26])\n",
    "    flights.append(flight_df)"
   ]
  },
  {
   "cell_type": "code",
   "execution_count": 150,
   "metadata": {},
   "outputs": [],
   "source": [
    "# Reported strikes each hour\n",
    "strikes_hourly = strike_times['TIME'].groupby(strike_times['TIME'].dt.hour).count()\n",
    "\n",
    "# Flights scheduled to depart each hour\n",
    "flights_hourly = sum([flights[y]['ScheduledDepartures'] for y in range(0,20)])\n",
    "\n",
    "# Strikes per flight each hour\n",
    "strikes_per_flight_hourly = [strikes_hourly[h]/flights_hourly[h] for h in range(0,24)]"
   ]
  },
  {
   "cell_type": "code",
   "execution_count": 162,
   "metadata": {},
   "outputs": [
    {
     "data": {
      "image/png": "[encoded data removed]",
      "text/plain": [
       "<Figure size 720x720 with 1 Axes>"
      ]
     },
     "metadata": {
      "needs_background": "light"
     },
     "output_type": "display_data"
    }
   ],
   "source": [
    "# Plot the strikes per flight for each hour of the day\n",
    "\n",
    "plt.figure(figsize=(10,10))\n",
    "\n",
    "plt.xlabel('Hour', fontsize=14)\n",
    "plt.ylabel('Strikes reported per 1000 flights', fontsize=14)\n",
    "\n",
    "plt.xticks(range(0,24))\n",
    "\n",
    "plt.bar(range(0,24), [1000*i for i in strikes_per_flight_hourly])\n",
    "\n",
    "plt.show()"
   ]
  },
  {
   "cell_type": "markdown",
   "metadata": {},
   "source": [
    "For comparison, let's plot the bird strikes and the number of flights separately."
   ]
  },
  {
   "cell_type": "code",
   "execution_count": 163,
   "metadata": {},
   "outputs": [
    {
     "data": {
      "image/png": "[encoded data removed]",
      "text/plain": [
       "<Figure size 720x720 with 1 Axes>"
      ]
     },
     "metadata": {
      "needs_background": "light"
     },
     "output_type": "display_data"
    }
   ],
   "source": [
    "# Plot the number of bird strikes by hour\n",
    "\n",
    "plt.figure(figsize=(10,10))\n",
    "\n",
    "plt.xlabel('Hour', fontsize=14)\n",
    "plt.ylabel('Strikes reported', fontsize=14)\n",
    "\n",
    "plt.xticks(range(0,24))\n",
    "\n",
    "plt.bar(range(0,24), strikes_hourly, color='orange')\n",
    "\n",
    "plt.show()"
   ]
  },
  {
   "cell_type": "code",
   "execution_count": 170,
   "metadata": {},
   "outputs": [
    {
     "data": {
      "image/png": "[encoded data removed]",
      "text/plain": [
       "<Figure size 720x720 with 1 Axes>"
      ]
     },
     "metadata": {
      "needs_background": "light"
     },
     "output_type": "display_data"
    }
   ],
   "source": [
    "# Plot the number of flights by hour\n",
    "\n",
    "plt.figure(figsize=(10,10))\n",
    "\n",
    "plt.xlabel('Hour', fontsize=14)\n",
    "plt.ylabel('Flights', fontsize=14)\n",
    "\n",
    "# Write the y-axis labels in plain text\n",
    "# instead of scientific notation\n",
    "plt.ticklabel_format(style = 'plain')\n",
    "\n",
    "plt.xticks(range(0,24))\n",
    "\n",
    "plt.bar(range(0,24), flights_hourly, color='g')\n",
    "\n",
    "plt.show()"
   ]
  },
  {
   "cell_type": "code",
   "execution_count": 240,
   "metadata": {},
   "outputs": [
    {
     "data": {
      "image/png": "[encoded data removed]",
      "text/plain": [
       "<Figure size 2160x720 with 3 Axes>"
      ]
     },
     "metadata": {
      "needs_background": "light"
     },
     "output_type": "display_data"
    }
   ],
   "source": [
    "# Now let's plot these three side-by-side\n",
    "\n",
    "fig, ax = plt.subplots(1,3,sharex=True, figsize=(30,10))\n",
    "\n",
    "ax[0].set_xticks(range(0,24))\n",
    "\n",
    "ax[0].bar(range(0,24), strikes_hourly, color='orange')\n",
    "ax[0].set_xlabel('Hour', fontsize=16)\n",
    "ax[0].set_ylabel('Strikes reported', fontsize=16)\n",
    "\n",
    "ax[1].bar(range(0,24), [1000*i for i in strikes_per_flight_hourly])\n",
    "ax[1].set_xlabel('Hour', fontsize=16)\n",
    "ax[1].set_ylabel('Strikes reported per 1000 flights', fontsize=16)\n",
    "\n",
    "ax[2].bar(range(0,24), flights_hourly, color='g')\n",
    "ax[2].ticklabel_format(style = 'plain')\n",
    "ax[2].set_xlabel('Hour', fontsize=16)\n",
    "ax[2].set_ylabel('Flights', fontsize=16)\n",
    "\n",
    "plt.show()"
   ]
  },
  {
   "cell_type": "code",
   "execution_count": null,
   "metadata": {},
   "outputs": [],
   "source": []
  }
 ],
 "metadata": {
  "kernelspec": {
   "display_name": "Python 3",
   "language": "python",
   "name": "python3"
  },
  "language_info": {
   "codemirror_mode": {
    "name": "ipython",
    "version": 3
   },
   "file_extension": ".py",
   "mimetype": "text/x-python",
   "name": "python",
   "nbconvert_exporter": "python",
   "pygments_lexer": "ipython3",
   "version": "3.7.7"
  }
 },
 "nbformat": 4,
 "nbformat_minor": 4
}
