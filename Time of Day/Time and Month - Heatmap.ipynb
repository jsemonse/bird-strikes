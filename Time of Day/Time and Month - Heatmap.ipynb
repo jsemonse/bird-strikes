{
 "cells": [
  {
   "cell_type": "markdown",
   "metadata": {},
   "source": [
    "## Hour and Month\n",
    "\n",
    "We look at the frequency of bird strikes according to hour of the day (e.g. 4 AM) and month (e.g. January), and plot it using a heatmap."
   ]
  },
  {
   "cell_type": "code",
   "execution_count": 157,
   "metadata": {},
   "outputs": [],
   "source": [
    "import numpy as np\n",
    "import pandas as pd\n",
    "import matplotlib.pyplot as plt"
   ]
  },
  {
   "cell_type": "markdown",
   "metadata": {},
   "source": [
    "First, let's get the strike data and store it as a DataFrame."
   ]
  },
  {
   "cell_type": "code",
   "execution_count": 158,
   "metadata": {},
   "outputs": [
    {
     "name": "stderr",
     "output_type": "stream",
     "text": [
      "/usr/local/lib/python3.7/site-packages/IPython/core/interactiveshell.py:3063: DtypeWarning: Columns (14,16,77,86,96,99) have mixed types.Specify dtype option on import or set low_memory=False.\n",
      "  interactivity=interactivity, compiler=compiler, result=result)\n"
     ]
    }
   ],
   "source": [
    "# Read in the strike data\n",
    "strikes = pd.read_csv(\"strikes_2000_2019.csv\")"
   ]
  },
  {
   "cell_type": "code",
   "execution_count": 159,
   "metadata": {},
   "outputs": [],
   "source": [
    "# Make a smaller data frame to focus on the strike time and place\n",
    "strike_times = strikes[['INDX_NR','INCIDENT_DATE ','STATE',\n",
    "                        'AIRPORT_ID', 'OPERATOR_ID','SPECIES_ID',\n",
    "                        'DAMAGE','COST_REPAIRS',\n",
    "                        'INCIDENT_MONTH','INCIDENT_YEAR',\n",
    "                        'TIME_OF_DAY','TIME',\n",
    "                        'FAAREGION','ENROUTE','LOCATION',\n",
    "                        'HEIGHT','SPEED','DISTANCE',\n",
    "                        'PHASE_OF_FLIGHT',\n",
    "                        'EFFECT_NONE', 'EFFECT_ABORTED', \n",
    "                        'EFFECT_PREC_LAND', 'EFFECT_ENG_SHUT', \n",
    "                        'EFFECT_OTH', 'EFFECT_OTHER',\n",
    "                        'SKY', 'PRECIP_FOG', 'PRECIP_RAIN', \n",
    "                        'PRECIP_SNOW', 'PRECIP_NONE', \n",
    "                        'BIRDS_SEEN', 'BIRDS_STRUCK', 'SIZE', \n",
    "                        'WARNED', 'REMARKS', 'AOS',\n",
    "                        'OTHER_COST', 'COST_REPAIRS_INFL_ADJ', \n",
    "                        'COST_OTHER_INFL_ADJ','COMMENT',\n",
    "                        'INDICATED_DAMAGE']]"
   ]
  },
  {
   "cell_type": "code",
   "execution_count": 160,
   "metadata": {},
   "outputs": [],
   "source": [
    "# In the TIME column in the original data set, \n",
    "# empty entries are denoted by the string '     '.\n",
    "# Here we replace all strings of 5 spaces with NaN\n",
    "# to make empty entries in the TIME column easier to identify.\n",
    "strike_times = strike_times.replace('     ', np.nan)"
   ]
  },
  {
   "cell_type": "code",
   "execution_count": 161,
   "metadata": {},
   "outputs": [],
   "source": [
    "# Convert the times in the 'TIME' column to datetime\n",
    "# Unfortunately this assigns a date of 1900-01-01\n",
    "strike_times['TIME'] = pd.to_datetime(strike_times['TIME'], \n",
    "                                      format= '%H:%M')"
   ]
  },
  {
   "cell_type": "code",
   "execution_count": 162,
   "metadata": {},
   "outputs": [],
   "source": [
    "# Convert the 'INCIDENT_DATE ' column to datetime\n",
    "strike_times['INCIDENT_DATE '] = pd.to_datetime(strike_times['INCIDENT_DATE '])"
   ]
  },
  {
   "cell_type": "markdown",
   "metadata": {},
   "source": [
    "Let's make a train-test split, and then plot our training data using a heat map. The features we are interested in are the hour and month of each strike."
   ]
  },
  {
   "cell_type": "code",
   "execution_count": 392,
   "metadata": {},
   "outputs": [],
   "source": [
    "# Just look at strike month and hour\n",
    "strike_mh = pd.DataFrame()\n",
    "strike_mh['MONTH'] = pd.to_numeric(strike_times['INCIDENT_DATE '].dt.month)\n",
    "strike_mh['HOUR'] = pd.to_numeric(strike_times['TIME'].dt.hour)"
   ]
  },
  {
   "cell_type": "code",
   "execution_count": 394,
   "metadata": {},
   "outputs": [],
   "source": [
    "# We want to count how many strikes were reported for each (month, hour) pair.\n",
    "# Note that many 'HOUR' values are missing for many strikes,\n",
    "# and we're omitting those strikes here.\n",
    "strike_mh_counts = strike_mh['HOUR'].groupby(strike_mh['MONTH']).value_counts()"
   ]
  },
  {
   "cell_type": "code",
   "execution_count": 395,
   "metadata": {},
   "outputs": [],
   "source": [
    "# Reformat strike_mh data into a 2D numpy array\n",
    "strike_mh_array = np.zeros((12,24))\n",
    "for m in range(0,12):\n",
    "    for h in range(0,24):\n",
    "        strike_mh_array[m,h] = strike_mh_counts[m+1,h]"
   ]
  },
  {
   "cell_type": "code",
   "execution_count": 396,
   "metadata": {},
   "outputs": [
    {
     "data": {
      "image/png": "[encoded data removed]",
      "text/plain": [
       "<Figure size 720x576 with 2 Axes>"
      ]
     },
     "metadata": {},
     "output_type": "display_data"
    }
   ],
   "source": [
    "import seaborn as sns\n",
    "\n",
    "plt.figure(figsize = (10,8))\n",
    "\n",
    "sns.heatmap(strike_mh_array)\n",
    "\n",
    "plt.xlabel('Hour', fontsize = 14)\n",
    "plt.ylabel('Month', fontsize = 14)\n",
    "\n",
    "plt.title('Number of strikes reported, without dividing by number of flights', fontsize=16)\n",
    "\n",
    "plt.show()"
   ]
  },
  {
   "cell_type": "markdown",
   "metadata": {},
   "source": [
    "The problem with the above plot is that we haven't accounted for the number of flights. To remedy this, we'll divide by the total number of flights scheduled to arrive during each (month, hour) pair."
   ]
  },
  {
   "cell_type": "code",
   "execution_count": 310,
   "metadata": {},
   "outputs": [
    {
     "data": {
      "text/plain": [
       "Approach        54836\n",
       "Landing Roll    22306\n",
       "Take-off Run    21600\n",
       "Climb           19228\n",
       "En Route         3278\n",
       "Descent          1634\n",
       "Departure        1528\n",
       "Local             660\n",
       "Arrival           528\n",
       "Taxi              416\n",
       "Parked            109\n",
       "Unknown            43\n",
       "Name: PHASE_OF_FLIGHT, dtype: int64"
      ]
     },
     "execution_count": 310,
     "metadata": {},
     "output_type": "execute_result"
    }
   ],
   "source": [
    "# The approach is the phase of flight with the most bird strikes\n",
    "# Therefore, we'll use scheduled arrivals as our estimate for number of flights\n",
    "strike_times['PHASE_OF_FLIGHT'].value_counts()"
   ]
  },
  {
   "cell_type": "code",
   "execution_count": 397,
   "metadata": {},
   "outputs": [],
   "source": [
    "# Load in the flight data for each year from 2000 through 2019\n",
    "# Store it as a list called flights,\n",
    "# where flights[i] = the data frame for the year 2000+i\n",
    "\n",
    "flights = []\n",
    "\n",
    "for year in range(0, 20):\n",
    "    flight_df = pd.read_csv(\"flights_monthly_hourly/flights_monthly_hourly_{}.csv\".format(str(2000+year)), \n",
    "                            skiprows = [0, 290],\n",
    "                            thousands=',')\n",
    "    # Convert the 'Date' column to datetime format\n",
    "    flight_df['Date'] = pd.to_datetime(flight_df['Date'])\n",
    "    flights.append(flight_df)"
   ]
  },
  {
   "cell_type": "code",
   "execution_count": 398,
   "metadata": {},
   "outputs": [],
   "source": [
    "# Make an array of the total number of flights scheduled \n",
    "# to arrive during each (month, hour) pair\n",
    "\n",
    "flights_mh_array = np.zeros((12,24))\n",
    "for m in range(0,12):\n",
    "    for h in range(0,24):\n",
    "        flights_mh_array[m,h] = sum([flights[y].loc[(flights[y]['Date'].dt.month == m+1) &\\\n",
    "                                                    (flights[y]['Hour'] == h)]['ScheduledArrivals']\\\n",
    "                                                    for y in range(0,20)])"
   ]
  },
  {
   "cell_type": "code",
   "execution_count": 399,
   "metadata": {},
   "outputs": [],
   "source": [
    "# Make an array of strikes per flight for each (month, hour) pair\n",
    "\n",
    "strikes_per_flight = np.zeros((12,24))\n",
    "\n",
    "for m in range(0,12):\n",
    "    for h in range(0,24):\n",
    "        strikes_per_flight[m,h] = strike_mh_array[m,h]/flights_mh_array[m,h]"
   ]
  },
  {
   "cell_type": "code",
   "execution_count": 401,
   "metadata": {},
   "outputs": [
    {
     "data": {
      "image/png": "[encoded data removed]",
      "text/plain": [
       "<Figure size 720x576 with 2 Axes>"
      ]
     },
     "metadata": {},
     "output_type": "display_data"
    }
   ],
   "source": [
    "# Plot strikes per flight as a heatmap\n",
    "\n",
    "strikes_per_flight_scaled = np.array(strikes_per_flight)*10000\n",
    "\n",
    "plt.figure(figsize = (10,8))\n",
    "\n",
    "sns.heatmap(strikes_per_flight_scaled)\n",
    "\n",
    "plt.xlabel('Hour', fontsize = 14)\n",
    "plt.ylabel('Month', fontsize = 14)\n",
    "\n",
    "plt.title('Number of strikes per 10,000 flights', fontsize=16)\n",
    "\n",
    "plt.show()"
   ]
  },
  {
   "cell_type": "code",
   "execution_count": null,
   "metadata": {},
   "outputs": [],
   "source": []
  }
 ],
 "metadata": {
  "kernelspec": {
   "display_name": "Python 3",
   "language": "python",
   "name": "python3"
  },
  "language_info": {
   "codemirror_mode": {
    "name": "ipython",
    "version": 3
   },
   "file_extension": ".py",
   "mimetype": "text/x-python",
   "name": "python",
   "nbconvert_exporter": "python",
   "pygments_lexer": "ipython3",
   "version": "3.7.7"
  }
 },
 "nbformat": 4,
 "nbformat_minor": 4
}
