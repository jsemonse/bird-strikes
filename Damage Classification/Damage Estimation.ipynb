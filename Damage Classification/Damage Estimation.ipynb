{
 "cells": [
  {
   "cell_type": "code",
   "execution_count": 1,
   "metadata": {},
   "outputs": [],
   "source": [
    "import pandas as pd\n",
    "import numpy as np\n",
    "import matplotlib.pyplot as plt\n",
    "import seaborn as sns\n",
    "sns.set_style(\"whitegrid\")"
   ]
  },
  {
   "cell_type": "code",
   "execution_count": 2,
   "metadata": {},
   "outputs": [
    {
     "name": "stderr",
     "output_type": "stream",
     "text": [
      "/Library/Frameworks/Python.framework/Versions/3.7/lib/python3.7/site-packages/IPython/core/interactiveshell.py:3063: DtypeWarning: Columns (14,16) have mixed types.Specify dtype option on import or set low_memory=False.\n",
      "  interactivity=interactivity, compiler=compiler, result=result)\n"
     ]
    }
   ],
   "source": [
    "df = pd.read_csv(\"wildlife.csv\",parse_dates = ['INCIDENT_DATE '])"
   ]
  },
  {
   "cell_type": "code",
   "execution_count": 3,
   "metadata": {},
   "outputs": [
    {
     "name": "stdout",
     "output_type": "stream",
     "text": [
      "[INDX_NR]\n",
      "[INCIDENT_DATE ]\n",
      "[STATE]\n",
      "[AIRPORT_ID]\n",
      "[AIRPORT]\n",
      "[OPERATOR_ID]\n",
      "[OPERATOR]\n",
      "[AIRCRAFT]\n",
      "[TYPE_ENG]\n",
      "[SPECIES]\n",
      "[SPECIES_ID]\n",
      "[DAMAGE]\n",
      "[COST_REPAIRS]\n",
      "[AMA]\n",
      "[AMO]\n",
      "[EMA]\n",
      "[EMO]\n",
      "[AC_CLASS]\n",
      "[AC_MASS]\n",
      "[NUM_ENGS]\n",
      "[ENG_1_POS]\n",
      "[ENG_2_POS]\n",
      "[ENG_3_POS]\n",
      "[ENG_4_POS]\n",
      "[REG]\n",
      "[FLT]\n",
      "[REMAINS_COLLECTED]\n",
      "[REMAINS_SENT]\n",
      "[INCIDENT_MONTH]\n",
      "[INCIDENT_YEAR]\n",
      "[TIME_OF_DAY]\n",
      "[TIME]\n",
      "[FAAREGION]\n",
      "[ENROUTE]\n",
      "[RUNWAY]\n",
      "[LOCATION]\n",
      "[HEIGHT]\n",
      "[SPEED]\n",
      "[DISTANCE]\n",
      "[PHASE_OF_FLIGHT]\n",
      "[STR_RAD]\n",
      "[DAM_RAD]\n",
      "[STR_WINDSHLD]\n",
      "[DAM_WINDSHLD]\n",
      "[STR_NOSE]\n",
      "[DAM_NOSE]\n",
      "[STR_ENG1]\n",
      "[DAM_ENG1]\n",
      "[STR_ENG2]\n",
      "[DAM_ENG2]\n",
      "[STR_ENG3]\n",
      "[DAM_ENG3]\n",
      "[STR_ENG4]\n",
      "[DAM_ENG4]\n",
      "[STR_PROP]\n",
      "[DAM_PROP]\n",
      "[STR_WING_ROT]\n",
      "[DAM_WING_ROT]\n",
      "[STR_FUSE]\n",
      "[DAM_FUSE]\n",
      "[STR_LG]\n",
      "[DAM_LG]\n",
      "[STR_TAIL]\n",
      "[DAM_TAIL]\n",
      "[STR_LGHTS]\n",
      "[DAM_LGHTS]\n",
      "[STR_OTHER]\n",
      "[DAM_OTHER]\n",
      "[OTHER_SPECIFY]\n",
      "[INGESTED]\n",
      "[EFFECT_NONE]\n",
      "[EFFECT_ABORTED]\n",
      "[EFFECT_PREC_LAND]\n",
      "[EFFECT_ENG_SHUT]\n",
      "[EFFECT_OTH]\n",
      "[EFFECT_OTHER]\n",
      "[SKY]\n",
      "[PRECIP_FOG]\n",
      "[PRECIP_RAIN]\n",
      "[PRECIP_SNOW]\n",
      "[PRECIP_NONE]\n",
      "[BIRDS_SEEN]\n",
      "[BIRDS_STRUCK]\n",
      "[SIZE]\n",
      "[WARNED]\n",
      "[REMARKS]\n",
      "[AOS]\n",
      "[OTHER_COST]\n",
      "[COST_REPAIRS_INFL_ADJ]\n",
      "[COST_OTHER_INFL_ADJ]\n",
      "[REPORTED_NAME]\n",
      "[REPORTED_TITLE]\n",
      "[REPORTED_DATE ]\n",
      "[COMMENT]\n",
      "[SOURCE]\n",
      "[PERSON]\n",
      "[NR_INJURIES]\n",
      "[NR_FATALITIES]\n",
      "[LUPDATE]\n",
      "[TRANSFER]\n",
      "[INDICATED_DAMAGE]\n",
      "[Unnamed: 101]\n"
     ]
    }
   ],
   "source": [
    "for s in df.columns:\n",
    "    print('['+s+']')"
   ]
  },
  {
   "cell_type": "code",
   "execution_count": 4,
   "metadata": {},
   "outputs": [],
   "source": [
    "df_copy=df.copy()"
   ]
  },
  {
   "cell_type": "code",
   "execution_count": 5,
   "metadata": {},
   "outputs": [
    {
     "data": {
      "text/plain": [
       "0        2007-05-27\n",
       "1        2007-05-27\n",
       "2        2000-08-06\n",
       "3        2000-03-15\n",
       "4        2000-05-08\n",
       "            ...    \n",
       "205808   2019-07-16\n",
       "205809   2019-10-19\n",
       "205810   2019-07-15\n",
       "205811   2019-12-21\n",
       "205812   2019-10-09\n",
       "Name: INCIDENT_DATE , Length: 205813, dtype: datetime64[ns]"
      ]
     },
     "execution_count": 5,
     "metadata": {},
     "output_type": "execute_result"
    }
   ],
   "source": [
    "df['INCIDENT_DATE ']"
   ]
  },
  {
   "cell_type": "code",
   "execution_count": 6,
   "metadata": {},
   "outputs": [],
   "source": [
    "df_copy = df_copy.drop(columns=[\"TYPE_ENG\",\"AMA\",\"AMO\",\"EMA\",\"EMO\",\"AC_CLASS\",\"AC_MASS\",\"REG\",\"REMAINS_COLLECTED\",\"REMAINS_SENT\",\"RUNWAY\",\"STR_RAD\",\"DAM_RAD\",\"STR_WINDSHLD\",\"STR_NOSE\",\"DAM_NOSE\",\"STR_ENG1\",\"DAM_ENG1\",\"STR_ENG2\",\"DAM_ENG2\",\"STR_ENG3\",\"DAM_ENG3\",\"STR_ENG4\",\"DAM_ENG4\",\"STR_PROP\",\"DAM_PROP\",\"STR_WING_ROT\",\"DAM_WING_ROT\",\"STR_FUSE\",\"DAM_FUSE\",\"STR_LG\",\"DAM_LG\",\"STR_TAIL\",\"DAM_TAIL\",\"STR_LGHTS\",\"DAM_LGHTS\",\"STR_OTHER\",\"DAM_OTHER\",\"OTHER_SPECIFY\",\"REPORTED_NAME\",\"REPORTED_TITLE\",\"TRANSFER\", \"Unnamed: 101\"])\n"
   ]
  },
  {
   "cell_type": "code",
   "execution_count": 7,
   "metadata": {},
   "outputs": [
    {
     "data": {
      "text/html": [
       "<div>\n",
       "<style scoped>\n",
       "    .dataframe tbody tr th:only-of-type {\n",
       "        vertical-align: middle;\n",
       "    }\n",
       "\n",
       "    .dataframe tbody tr th {\n",
       "        vertical-align: top;\n",
       "    }\n",
       "\n",
       "    .dataframe thead th {\n",
       "        text-align: right;\n",
       "    }\n",
       "</style>\n",
       "<table border=\"1\" class=\"dataframe\">\n",
       "  <thead>\n",
       "    <tr style=\"text-align: right;\">\n",
       "      <th></th>\n",
       "      <th>INDX_NR</th>\n",
       "      <th>INCIDENT_DATE</th>\n",
       "      <th>STATE</th>\n",
       "      <th>AIRPORT_ID</th>\n",
       "      <th>AIRPORT</th>\n",
       "      <th>OPERATOR_ID</th>\n",
       "      <th>OPERATOR</th>\n",
       "      <th>AIRCRAFT</th>\n",
       "      <th>SPECIES</th>\n",
       "      <th>SPECIES_ID</th>\n",
       "      <th>...</th>\n",
       "      <th>COST_REPAIRS_INFL_ADJ</th>\n",
       "      <th>COST_OTHER_INFL_ADJ</th>\n",
       "      <th>REPORTED_DATE</th>\n",
       "      <th>COMMENT</th>\n",
       "      <th>SOURCE</th>\n",
       "      <th>PERSON</th>\n",
       "      <th>NR_INJURIES</th>\n",
       "      <th>NR_FATALITIES</th>\n",
       "      <th>LUPDATE</th>\n",
       "      <th>INDICATED_DAMAGE</th>\n",
       "    </tr>\n",
       "  </thead>\n",
       "  <tbody>\n",
       "    <tr>\n",
       "      <th>0</th>\n",
       "      <td>638332</td>\n",
       "      <td>2007-05-27</td>\n",
       "      <td>TX</td>\n",
       "      <td>KHOU</td>\n",
       "      <td>WILLIAM P HOBBY ARPT</td>\n",
       "      <td>SWA</td>\n",
       "      <td>SOUTHWEST AIRLINES</td>\n",
       "      <td>B-737-300</td>\n",
       "      <td>Eastern meadowlark</td>\n",
       "      <td>ZT001</td>\n",
       "      <td>...</td>\n",
       "      <td>NaN</td>\n",
       "      <td>NaN</td>\n",
       "      <td>2007-08-21</td>\n",
       "      <td>TWO XXXX-X (XXXX-X-XX-XXXXXX &amp; X-X-XXXXXX) /Le...</td>\n",
       "      <td>FAA Form 5200-7-E</td>\n",
       "      <td>Pilot</td>\n",
       "      <td>NaN</td>\n",
       "      <td>NaN</td>\n",
       "      <td>2007-08-21</td>\n",
       "      <td>True</td>\n",
       "    </tr>\n",
       "    <tr>\n",
       "      <th>1</th>\n",
       "      <td>638333</td>\n",
       "      <td>2007-05-27</td>\n",
       "      <td>NaN</td>\n",
       "      <td>ZZZZ</td>\n",
       "      <td>UNKNOWN</td>\n",
       "      <td>USA</td>\n",
       "      <td>1US AIRWAYS</td>\n",
       "      <td>B-737-400</td>\n",
       "      <td>Gulls</td>\n",
       "      <td>NE1</td>\n",
       "      <td>...</td>\n",
       "      <td>NaN</td>\n",
       "      <td>NaN</td>\n",
       "      <td>2007-08-21</td>\n",
       "      <td>NaN</td>\n",
       "      <td>FAA Form 5200-7</td>\n",
       "      <td>Air Transport Operations</td>\n",
       "      <td>NaN</td>\n",
       "      <td>NaN</td>\n",
       "      <td>2007-08-21</td>\n",
       "      <td>True</td>\n",
       "    </tr>\n",
       "    <tr>\n",
       "      <th>2</th>\n",
       "      <td>638334</td>\n",
       "      <td>2000-08-06</td>\n",
       "      <td>NaN</td>\n",
       "      <td>ZZZZ</td>\n",
       "      <td>UNKNOWN</td>\n",
       "      <td>BUS</td>\n",
       "      <td>BUSINESS</td>\n",
       "      <td>BE-33</td>\n",
       "      <td>Unknown bird - small</td>\n",
       "      <td>UNKBS</td>\n",
       "      <td>...</td>\n",
       "      <td>NaN</td>\n",
       "      <td>NaN</td>\n",
       "      <td>2000-10-06</td>\n",
       "      <td>NaN</td>\n",
       "      <td>FAA Form 5200-7</td>\n",
       "      <td>Pilot</td>\n",
       "      <td>NaN</td>\n",
       "      <td>NaN</td>\n",
       "      <td>2000-10-06</td>\n",
       "      <td>True</td>\n",
       "    </tr>\n",
       "    <tr>\n",
       "      <th>3</th>\n",
       "      <td>638335</td>\n",
       "      <td>2000-03-15</td>\n",
       "      <td>TX</td>\n",
       "      <td>KDAL</td>\n",
       "      <td>DALLAS LOVE FIELD ARPT</td>\n",
       "      <td>SWA</td>\n",
       "      <td>SOUTHWEST AIRLINES</td>\n",
       "      <td>B-737-300</td>\n",
       "      <td>Unknown bird - small</td>\n",
       "      <td>UNKBS</td>\n",
       "      <td>...</td>\n",
       "      <td>NaN</td>\n",
       "      <td>NaN</td>\n",
       "      <td>2000-05-17</td>\n",
       "      <td>NaN</td>\n",
       "      <td>FAA Form 5200-7</td>\n",
       "      <td>NaN</td>\n",
       "      <td>NaN</td>\n",
       "      <td>NaN</td>\n",
       "      <td>2000-05-17</td>\n",
       "      <td>False</td>\n",
       "    </tr>\n",
       "    <tr>\n",
       "      <th>4</th>\n",
       "      <td>638336</td>\n",
       "      <td>2000-05-08</td>\n",
       "      <td>OR</td>\n",
       "      <td>KPDX</td>\n",
       "      <td>PORTLAND INTL (OR)</td>\n",
       "      <td>AAL</td>\n",
       "      <td>AMERICAN AIRLINES</td>\n",
       "      <td>MD-80</td>\n",
       "      <td>Unknown bird - medium</td>\n",
       "      <td>UNKBM</td>\n",
       "      <td>...</td>\n",
       "      <td>NaN</td>\n",
       "      <td>NaN</td>\n",
       "      <td>2000-07-14</td>\n",
       "      <td>NaN</td>\n",
       "      <td>PACIR</td>\n",
       "      <td>Tower</td>\n",
       "      <td>NaN</td>\n",
       "      <td>NaN</td>\n",
       "      <td>2000-07-14</td>\n",
       "      <td>False</td>\n",
       "    </tr>\n",
       "    <tr>\n",
       "      <th>...</th>\n",
       "      <td>...</td>\n",
       "      <td>...</td>\n",
       "      <td>...</td>\n",
       "      <td>...</td>\n",
       "      <td>...</td>\n",
       "      <td>...</td>\n",
       "      <td>...</td>\n",
       "      <td>...</td>\n",
       "      <td>...</td>\n",
       "      <td>...</td>\n",
       "      <td>...</td>\n",
       "      <td>...</td>\n",
       "      <td>...</td>\n",
       "      <td>...</td>\n",
       "      <td>...</td>\n",
       "      <td>...</td>\n",
       "      <td>...</td>\n",
       "      <td>...</td>\n",
       "      <td>...</td>\n",
       "      <td>...</td>\n",
       "      <td>...</td>\n",
       "    </tr>\n",
       "    <tr>\n",
       "      <th>205808</th>\n",
       "      <td>976200</td>\n",
       "      <td>2019-07-16</td>\n",
       "      <td>NV</td>\n",
       "      <td>KLAS</td>\n",
       "      <td>MC CARRAN INTL ARPT</td>\n",
       "      <td>SWA</td>\n",
       "      <td>SOUTHWEST AIRLINES</td>\n",
       "      <td>B-737-800</td>\n",
       "      <td>Sparrows</td>\n",
       "      <td>ZX3</td>\n",
       "      <td>...</td>\n",
       "      <td>NaN</td>\n",
       "      <td>NaN</td>\n",
       "      <td>2020-05-15</td>\n",
       "      <td>NaN</td>\n",
       "      <td>FAA Form 5200-7-E</td>\n",
       "      <td>Tower</td>\n",
       "      <td>NaN</td>\n",
       "      <td>NaN</td>\n",
       "      <td>2020-05-15</td>\n",
       "      <td>False</td>\n",
       "    </tr>\n",
       "    <tr>\n",
       "      <th>205809</th>\n",
       "      <td>976219</td>\n",
       "      <td>2019-10-19</td>\n",
       "      <td>NaN</td>\n",
       "      <td>ZZZZ</td>\n",
       "      <td>UNKNOWN</td>\n",
       "      <td>RPA</td>\n",
       "      <td>REPUBLIC AIRLINES</td>\n",
       "      <td>EMB-170</td>\n",
       "      <td>Yellow-rumped warbler</td>\n",
       "      <td>ZS009</td>\n",
       "      <td>...</td>\n",
       "      <td>NaN</td>\n",
       "      <td>NaN</td>\n",
       "      <td>2020-05-15</td>\n",
       "      <td>NaN</td>\n",
       "      <td>FAA Form 5200-7-E</td>\n",
       "      <td>Airport Operations</td>\n",
       "      <td>NaN</td>\n",
       "      <td>NaN</td>\n",
       "      <td>2020-05-15</td>\n",
       "      <td>False</td>\n",
       "    </tr>\n",
       "    <tr>\n",
       "      <th>205810</th>\n",
       "      <td>976220</td>\n",
       "      <td>2019-07-15</td>\n",
       "      <td>TN</td>\n",
       "      <td>KTRI</td>\n",
       "      <td>TRI-CITIES REGIONAL TN/VA ARPT</td>\n",
       "      <td>SKW</td>\n",
       "      <td>SKYWEST AIRLINES</td>\n",
       "      <td>UNKNOWN</td>\n",
       "      <td>Unknown bird - small</td>\n",
       "      <td>UNKBS</td>\n",
       "      <td>...</td>\n",
       "      <td>NaN</td>\n",
       "      <td>NaN</td>\n",
       "      <td>2020-05-15</td>\n",
       "      <td>NaN</td>\n",
       "      <td>FAA Form 5200-7-E</td>\n",
       "      <td>Airport Operations</td>\n",
       "      <td>NaN</td>\n",
       "      <td>NaN</td>\n",
       "      <td>2020-05-15</td>\n",
       "      <td>False</td>\n",
       "    </tr>\n",
       "    <tr>\n",
       "      <th>205811</th>\n",
       "      <td>976226</td>\n",
       "      <td>2019-12-21</td>\n",
       "      <td>LA</td>\n",
       "      <td>KIYA</td>\n",
       "      <td>Abbeville Chris Crusta Memorial Airport</td>\n",
       "      <td>LXJ</td>\n",
       "      <td>FLEXJET</td>\n",
       "      <td>EMB PHENOM 300</td>\n",
       "      <td>Unknown bird</td>\n",
       "      <td>UNKB</td>\n",
       "      <td>...</td>\n",
       "      <td>NaN</td>\n",
       "      <td>NaN</td>\n",
       "      <td>2020-05-15</td>\n",
       "      <td>NaN</td>\n",
       "      <td>FAA Form 5200-7-E</td>\n",
       "      <td>Airport Operations</td>\n",
       "      <td>NaN</td>\n",
       "      <td>NaN</td>\n",
       "      <td>2020-05-15</td>\n",
       "      <td>False</td>\n",
       "    </tr>\n",
       "    <tr>\n",
       "      <th>205812</th>\n",
       "      <td>976227</td>\n",
       "      <td>2019-10-09</td>\n",
       "      <td>NC</td>\n",
       "      <td>N52</td>\n",
       "      <td>JAARS-Townsend Airport</td>\n",
       "      <td>BUS</td>\n",
       "      <td>BUSINESS</td>\n",
       "      <td>C-172</td>\n",
       "      <td>American crow</td>\n",
       "      <td>YM1102</td>\n",
       "      <td>...</td>\n",
       "      <td>NaN</td>\n",
       "      <td>NaN</td>\n",
       "      <td>2020-05-15</td>\n",
       "      <td>NaN</td>\n",
       "      <td>FAA Form 5200-7</td>\n",
       "      <td>Airport Operations</td>\n",
       "      <td>NaN</td>\n",
       "      <td>NaN</td>\n",
       "      <td>2020-05-15</td>\n",
       "      <td>True</td>\n",
       "    </tr>\n",
       "  </tbody>\n",
       "</table>\n",
       "<p>205813 rows × 59 columns</p>\n",
       "</div>"
      ],
      "text/plain": [
       "        INDX_NR INCIDENT_DATE  STATE AIRPORT_ID  \\\n",
       "0        638332     2007-05-27    TX       KHOU   \n",
       "1        638333     2007-05-27   NaN       ZZZZ   \n",
       "2        638334     2000-08-06   NaN       ZZZZ   \n",
       "3        638335     2000-03-15    TX       KDAL   \n",
       "4        638336     2000-05-08    OR       KPDX   \n",
       "...         ...            ...   ...        ...   \n",
       "205808   976200     2019-07-16    NV       KLAS   \n",
       "205809   976219     2019-10-19   NaN       ZZZZ   \n",
       "205810   976220     2019-07-15    TN       KTRI   \n",
       "205811   976226     2019-12-21    LA      KIYA    \n",
       "205812   976227     2019-10-09    NC        N52   \n",
       "\n",
       "                                        AIRPORT OPERATOR_ID  \\\n",
       "0                          WILLIAM P HOBBY ARPT         SWA   \n",
       "1                                       UNKNOWN         USA   \n",
       "2                                       UNKNOWN         BUS   \n",
       "3                        DALLAS LOVE FIELD ARPT         SWA   \n",
       "4                            PORTLAND INTL (OR)         AAL   \n",
       "...                                         ...         ...   \n",
       "205808                      MC CARRAN INTL ARPT         SWA   \n",
       "205809                                  UNKNOWN         RPA   \n",
       "205810           TRI-CITIES REGIONAL TN/VA ARPT         SKW   \n",
       "205811  Abbeville Chris Crusta Memorial Airport         LXJ   \n",
       "205812                   JAARS-Townsend Airport         BUS   \n",
       "\n",
       "                  OPERATOR        AIRCRAFT                SPECIES SPECIES_ID  \\\n",
       "0       SOUTHWEST AIRLINES       B-737-300     Eastern meadowlark      ZT001   \n",
       "1              1US AIRWAYS       B-737-400                  Gulls        NE1   \n",
       "2                 BUSINESS           BE-33   Unknown bird - small      UNKBS   \n",
       "3       SOUTHWEST AIRLINES       B-737-300   Unknown bird - small      UNKBS   \n",
       "4        AMERICAN AIRLINES           MD-80  Unknown bird - medium      UNKBM   \n",
       "...                    ...             ...                    ...        ...   \n",
       "205808  SOUTHWEST AIRLINES       B-737-800               Sparrows        ZX3   \n",
       "205809   REPUBLIC AIRLINES         EMB-170  Yellow-rumped warbler      ZS009   \n",
       "205810    SKYWEST AIRLINES         UNKNOWN   Unknown bird - small      UNKBS   \n",
       "205811             FLEXJET  EMB PHENOM 300           Unknown bird       UNKB   \n",
       "205812            BUSINESS           C-172          American crow     YM1102   \n",
       "\n",
       "        ... COST_REPAIRS_INFL_ADJ  COST_OTHER_INFL_ADJ  REPORTED_DATE   \\\n",
       "0       ...                   NaN                  NaN      2007-08-21   \n",
       "1       ...                   NaN                  NaN      2007-08-21   \n",
       "2       ...                   NaN                  NaN      2000-10-06   \n",
       "3       ...                   NaN                  NaN      2000-05-17   \n",
       "4       ...                   NaN                  NaN      2000-07-14   \n",
       "...     ...                   ...                  ...             ...   \n",
       "205808  ...                   NaN                  NaN      2020-05-15   \n",
       "205809  ...                   NaN                  NaN      2020-05-15   \n",
       "205810  ...                   NaN                  NaN      2020-05-15   \n",
       "205811  ...                   NaN                  NaN      2020-05-15   \n",
       "205812  ...                   NaN                  NaN      2020-05-15   \n",
       "\n",
       "                                                  COMMENT             SOURCE  \\\n",
       "0       TWO XXXX-X (XXXX-X-XX-XXXXXX & X-X-XXXXXX) /Le...  FAA Form 5200-7-E   \n",
       "1                                                     NaN    FAA Form 5200-7   \n",
       "2                                                     NaN    FAA Form 5200-7   \n",
       "3                                                     NaN    FAA Form 5200-7   \n",
       "4                                                     NaN              PACIR   \n",
       "...                                                   ...                ...   \n",
       "205808                                                NaN  FAA Form 5200-7-E   \n",
       "205809                                                NaN  FAA Form 5200-7-E   \n",
       "205810                                                NaN  FAA Form 5200-7-E   \n",
       "205811                                                NaN  FAA Form 5200-7-E   \n",
       "205812                                                NaN    FAA Form 5200-7   \n",
       "\n",
       "                          PERSON  NR_INJURIES NR_FATALITIES     LUPDATE  \\\n",
       "0                          Pilot          NaN           NaN  2007-08-21   \n",
       "1       Air Transport Operations          NaN           NaN  2007-08-21   \n",
       "2                          Pilot          NaN           NaN  2000-10-06   \n",
       "3                            NaN          NaN           NaN  2000-05-17   \n",
       "4                          Tower          NaN           NaN  2000-07-14   \n",
       "...                          ...          ...           ...         ...   \n",
       "205808                     Tower          NaN           NaN  2020-05-15   \n",
       "205809        Airport Operations          NaN           NaN  2020-05-15   \n",
       "205810        Airport Operations          NaN           NaN  2020-05-15   \n",
       "205811        Airport Operations          NaN           NaN  2020-05-15   \n",
       "205812        Airport Operations          NaN           NaN  2020-05-15   \n",
       "\n",
       "        INDICATED_DAMAGE  \n",
       "0                   True  \n",
       "1                   True  \n",
       "2                   True  \n",
       "3                  False  \n",
       "4                  False  \n",
       "...                  ...  \n",
       "205808             False  \n",
       "205809             False  \n",
       "205810             False  \n",
       "205811             False  \n",
       "205812              True  \n",
       "\n",
       "[205813 rows x 59 columns]"
      ]
     },
     "execution_count": 7,
     "metadata": {},
     "output_type": "execute_result"
    }
   ],
   "source": [
    "df_copy"
   ]
  },
  {
   "cell_type": "code",
   "execution_count": 8,
   "metadata": {},
   "outputs": [
    {
     "data": {
      "text/plain": [
       "N          122079\n",
       "M            5667\n",
       "M?           4203\n",
       "S            2547\n",
       "Class E       278\n",
       "D             106\n",
       "Class C        69\n",
       "Class B         6\n",
       "Name: DAMAGE, dtype: int64"
      ]
     },
     "execution_count": 8,
     "metadata": {},
     "output_type": "execute_result"
    }
   ],
   "source": [
    "df_copy.DAMAGE.value_counts()"
   ]
  },
  {
   "cell_type": "code",
   "execution_count": 9,
   "metadata": {},
   "outputs": [
    {
     "data": {
      "text/plain": [
       "Approach        54836\n",
       "Landing Roll    22306\n",
       "Take-off Run    21600\n",
       "Climb           19228\n",
       "En Route         3278\n",
       "Descent          1634\n",
       "Departure        1528\n",
       "Local             660\n",
       "Arrival           528\n",
       "Taxi              416\n",
       "Parked            109\n",
       "Unknown            43\n",
       "Name: PHASE_OF_FLIGHT, dtype: int64"
      ]
     },
     "execution_count": 9,
     "metadata": {},
     "output_type": "execute_result"
    }
   ],
   "source": [
    "df_copy.PHASE_OF_FLIGHT.value_counts()"
   ]
  },
  {
   "cell_type": "code",
   "execution_count": 10,
   "metadata": {},
   "outputs": [
    {
     "data": {
      "text/plain": [
       "No Cloud      47352\n",
       "Some Cloud    34022\n",
       "Overcast      16367\n",
       "Name: SKY, dtype: int64"
      ]
     },
     "execution_count": 10,
     "metadata": {},
     "output_type": "execute_result"
    }
   ],
   "source": [
    "df_copy.SKY.value_counts()"
   ]
  },
  {
   "cell_type": "code",
   "execution_count": 11,
   "metadata": {},
   "outputs": [
    {
     "data": {
      "text/plain": [
       "0    118001\n",
       "1     87812\n",
       "Name: PRECIP_NONE, dtype: int64"
      ]
     },
     "execution_count": 11,
     "metadata": {},
     "output_type": "execute_result"
    }
   ],
   "source": [
    "df_copy.PRECIP_NONE.value_counts()"
   ]
  },
  {
   "cell_type": "code",
   "execution_count": 12,
   "metadata": {},
   "outputs": [
    {
     "data": {
      "text/plain": [
       "0    204059\n",
       "1      1754\n",
       "Name: PRECIP_FOG, dtype: int64"
      ]
     },
     "execution_count": 12,
     "metadata": {},
     "output_type": "execute_result"
    }
   ],
   "source": [
    "df_copy.PRECIP_FOG.value_counts()"
   ]
  },
  {
   "cell_type": "code",
   "execution_count": 13,
   "metadata": {},
   "outputs": [
    {
     "data": {
      "text/plain": [
       "0    200189\n",
       "1      5624\n",
       "Name: PRECIP_RAIN, dtype: int64"
      ]
     },
     "execution_count": 13,
     "metadata": {},
     "output_type": "execute_result"
    }
   ],
   "source": [
    "df_copy.PRECIP_RAIN.value_counts()"
   ]
  },
  {
   "cell_type": "code",
   "execution_count": 14,
   "metadata": {},
   "outputs": [
    {
     "data": {
      "text/plain": [
       "0    205454\n",
       "1       359\n",
       "Name: PRECIP_SNOW, dtype: int64"
      ]
     },
     "execution_count": 14,
     "metadata": {},
     "output_type": "execute_result"
    }
   ],
   "source": [
    "df_copy.PRECIP_SNOW.value_counts()"
   ]
  },
  {
   "cell_type": "code",
   "execution_count": 15,
   "metadata": {},
   "outputs": [
    {
     "data": {
      "text/plain": [
       "0         1\n",
       "1         1\n",
       "2         1\n",
       "3         1\n",
       "4         0\n",
       "         ..\n",
       "205808    1\n",
       "205809    0\n",
       "205810    1\n",
       "205811    1\n",
       "205812    1\n",
       "Length: 205813, dtype: int64"
      ]
     },
     "execution_count": 15,
     "metadata": {},
     "output_type": "execute_result"
    }
   ],
   "source": [
    "df_copy.PRECIP_SNOW + df_copy.PRECIP_RAIN +df_copy.PRECIP_FOG+df_copy.PRECIP_NONE"
   ]
  },
  {
   "cell_type": "code",
   "execution_count": 16,
   "metadata": {},
   "outputs": [
    {
     "data": {
      "text/plain": [
       "0    198368\n",
       "1      7158\n",
       "2       282\n",
       "3         5\n",
       "dtype: int64"
      ]
     },
     "execution_count": 16,
     "metadata": {},
     "output_type": "execute_result"
    }
   ],
   "source": [
    "(df_copy.PRECIP_SNOW + df_copy.PRECIP_RAIN +df_copy.PRECIP_FOG).value_counts()"
   ]
  },
  {
   "cell_type": "code",
   "execution_count": 17,
   "metadata": {},
   "outputs": [
    {
     "data": {
      "text/plain": [
       "0    110566\n",
       "1     94950\n",
       "2       292\n",
       "3         5\n",
       "dtype: int64"
      ]
     },
     "execution_count": 17,
     "metadata": {},
     "output_type": "execute_result"
    }
   ],
   "source": [
    "(df_copy.PRECIP_SNOW + df_copy.PRECIP_RAIN +df_copy.PRECIP_FOG+df_copy.PRECIP_NONE).value_counts()"
   ]
  },
  {
   "cell_type": "code",
   "execution_count": 18,
   "metadata": {},
   "outputs": [
    {
     "data": {
      "text/plain": [
       "Unknown bird - small     36641\n",
       "Unknown bird - medium    29718\n",
       "Unknown bird             14575\n",
       "Mourning dove            10772\n",
       "Killdeer                  6999\n",
       "Barn swallow              6998\n",
       "American kestrel          6348\n",
       "Horned lark               5913\n",
       "European starling         4482\n",
       "Gulls                     4062\n",
       "Rock pigeon               3047\n",
       "Eastern meadowlark        3042\n",
       "Red-tailed hawk           2984\n",
       "Sparrows                  2820\n",
       "Unknown bird - large      2608\n",
       "Cliff swallow             2315\n",
       "Western meadowlark        1803\n",
       "Ring-billed gull          1706\n",
       "American robin            1595\n",
       "Barn owl                  1465\n",
       "Name: SPECIES, dtype: int64"
      ]
     },
     "execution_count": 18,
     "metadata": {},
     "output_type": "execute_result"
    }
   ],
   "source": [
    "df_copy.SPECIES.value_counts().head(20)"
   ]
  },
  {
   "cell_type": "code",
   "execution_count": 19,
   "metadata": {},
   "outputs": [
    {
     "data": {
      "text/plain": [
       "205813"
      ]
     },
     "execution_count": 19,
     "metadata": {},
     "output_type": "execute_result"
    }
   ],
   "source": [
    "len(df_copy)"
   ]
  },
  {
   "cell_type": "code",
   "execution_count": 20,
   "metadata": {},
   "outputs": [],
   "source": [
    "smalls = ['Barn swallow','Horned lark','Cliff swallow','Sparrows','Unknown bird - small']"
   ]
  },
  {
   "cell_type": "code",
   "execution_count": 21,
   "metadata": {},
   "outputs": [],
   "source": [
    "meds = ['Unknown bird - medium','Mourning dove','Killdeer',\n",
    "        'American kestrel','European starling','Rock pigeon',\n",
    "        'Eastern meadowlark','Western meadowlark']\n",
    "\n",
    "#meds = ['Unknown bird - medium','Mourning dove','Killdeer',\n",
    "#        'American kestrel','European starling','Rock pigeon',\n",
    "#        'Eastern meadowlark','Western meadowlark','Ring-billed gull','American robin','Barn owl']"
   ]
  },
  {
   "cell_type": "code",
   "execution_count": 22,
   "metadata": {},
   "outputs": [],
   "source": [
    "larges = ['Unknown bird - large','Gulls','Red-tailed hawk']"
   ]
  },
  {
   "cell_type": "code",
   "execution_count": 23,
   "metadata": {},
   "outputs": [],
   "source": [
    "df_copy['small'] = df_copy.SPECIES.isin(smalls).astype(int)"
   ]
  },
  {
   "cell_type": "code",
   "execution_count": 24,
   "metadata": {},
   "outputs": [],
   "source": [
    "df_copy['medium'] = df_copy.SPECIES.isin(meds).astype(int)"
   ]
  },
  {
   "cell_type": "code",
   "execution_count": 25,
   "metadata": {},
   "outputs": [],
   "source": [
    "df_copy['large'] = df_copy.SPECIES.isin(larges).astype(int)"
   ]
  },
  {
   "cell_type": "code",
   "execution_count": 26,
   "metadata": {},
   "outputs": [],
   "source": [
    "df_reduced = df_copy[df_copy['small'] + df_copy['medium'] + df_copy['large'] > 0].copy()"
   ]
  },
  {
   "cell_type": "code",
   "execution_count": 27,
   "metadata": {},
   "outputs": [
    {
     "data": {
      "text/html": [
       "<div>\n",
       "<style scoped>\n",
       "    .dataframe tbody tr th:only-of-type {\n",
       "        vertical-align: middle;\n",
       "    }\n",
       "\n",
       "    .dataframe tbody tr th {\n",
       "        vertical-align: top;\n",
       "    }\n",
       "\n",
       "    .dataframe thead th {\n",
       "        text-align: right;\n",
       "    }\n",
       "</style>\n",
       "<table border=\"1\" class=\"dataframe\">\n",
       "  <thead>\n",
       "    <tr style=\"text-align: right;\">\n",
       "      <th></th>\n",
       "      <th>INDX_NR</th>\n",
       "      <th>INCIDENT_DATE</th>\n",
       "      <th>STATE</th>\n",
       "      <th>AIRPORT_ID</th>\n",
       "      <th>AIRPORT</th>\n",
       "      <th>OPERATOR_ID</th>\n",
       "      <th>OPERATOR</th>\n",
       "      <th>AIRCRAFT</th>\n",
       "      <th>SPECIES</th>\n",
       "      <th>SPECIES_ID</th>\n",
       "      <th>...</th>\n",
       "      <th>COMMENT</th>\n",
       "      <th>SOURCE</th>\n",
       "      <th>PERSON</th>\n",
       "      <th>NR_INJURIES</th>\n",
       "      <th>NR_FATALITIES</th>\n",
       "      <th>LUPDATE</th>\n",
       "      <th>INDICATED_DAMAGE</th>\n",
       "      <th>small</th>\n",
       "      <th>medium</th>\n",
       "      <th>large</th>\n",
       "    </tr>\n",
       "  </thead>\n",
       "  <tbody>\n",
       "    <tr>\n",
       "      <th>0</th>\n",
       "      <td>638332</td>\n",
       "      <td>2007-05-27</td>\n",
       "      <td>TX</td>\n",
       "      <td>KHOU</td>\n",
       "      <td>WILLIAM P HOBBY ARPT</td>\n",
       "      <td>SWA</td>\n",
       "      <td>SOUTHWEST AIRLINES</td>\n",
       "      <td>B-737-300</td>\n",
       "      <td>Eastern meadowlark</td>\n",
       "      <td>ZT001</td>\n",
       "      <td>...</td>\n",
       "      <td>TWO XXXX-X (XXXX-X-XX-XXXXXX &amp; X-X-XXXXXX) /Le...</td>\n",
       "      <td>FAA Form 5200-7-E</td>\n",
       "      <td>Pilot</td>\n",
       "      <td>NaN</td>\n",
       "      <td>NaN</td>\n",
       "      <td>2007-08-21</td>\n",
       "      <td>True</td>\n",
       "      <td>0</td>\n",
       "      <td>1</td>\n",
       "      <td>0</td>\n",
       "    </tr>\n",
       "    <tr>\n",
       "      <th>1</th>\n",
       "      <td>638333</td>\n",
       "      <td>2007-05-27</td>\n",
       "      <td>NaN</td>\n",
       "      <td>ZZZZ</td>\n",
       "      <td>UNKNOWN</td>\n",
       "      <td>USA</td>\n",
       "      <td>1US AIRWAYS</td>\n",
       "      <td>B-737-400</td>\n",
       "      <td>Gulls</td>\n",
       "      <td>NE1</td>\n",
       "      <td>...</td>\n",
       "      <td>NaN</td>\n",
       "      <td>FAA Form 5200-7</td>\n",
       "      <td>Air Transport Operations</td>\n",
       "      <td>NaN</td>\n",
       "      <td>NaN</td>\n",
       "      <td>2007-08-21</td>\n",
       "      <td>True</td>\n",
       "      <td>0</td>\n",
       "      <td>0</td>\n",
       "      <td>1</td>\n",
       "    </tr>\n",
       "    <tr>\n",
       "      <th>2</th>\n",
       "      <td>638334</td>\n",
       "      <td>2000-08-06</td>\n",
       "      <td>NaN</td>\n",
       "      <td>ZZZZ</td>\n",
       "      <td>UNKNOWN</td>\n",
       "      <td>BUS</td>\n",
       "      <td>BUSINESS</td>\n",
       "      <td>BE-33</td>\n",
       "      <td>Unknown bird - small</td>\n",
       "      <td>UNKBS</td>\n",
       "      <td>...</td>\n",
       "      <td>NaN</td>\n",
       "      <td>FAA Form 5200-7</td>\n",
       "      <td>Pilot</td>\n",
       "      <td>NaN</td>\n",
       "      <td>NaN</td>\n",
       "      <td>2000-10-06</td>\n",
       "      <td>True</td>\n",
       "      <td>1</td>\n",
       "      <td>0</td>\n",
       "      <td>0</td>\n",
       "    </tr>\n",
       "    <tr>\n",
       "      <th>3</th>\n",
       "      <td>638335</td>\n",
       "      <td>2000-03-15</td>\n",
       "      <td>TX</td>\n",
       "      <td>KDAL</td>\n",
       "      <td>DALLAS LOVE FIELD ARPT</td>\n",
       "      <td>SWA</td>\n",
       "      <td>SOUTHWEST AIRLINES</td>\n",
       "      <td>B-737-300</td>\n",
       "      <td>Unknown bird - small</td>\n",
       "      <td>UNKBS</td>\n",
       "      <td>...</td>\n",
       "      <td>NaN</td>\n",
       "      <td>FAA Form 5200-7</td>\n",
       "      <td>NaN</td>\n",
       "      <td>NaN</td>\n",
       "      <td>NaN</td>\n",
       "      <td>2000-05-17</td>\n",
       "      <td>False</td>\n",
       "      <td>1</td>\n",
       "      <td>0</td>\n",
       "      <td>0</td>\n",
       "    </tr>\n",
       "    <tr>\n",
       "      <th>4</th>\n",
       "      <td>638336</td>\n",
       "      <td>2000-05-08</td>\n",
       "      <td>OR</td>\n",
       "      <td>KPDX</td>\n",
       "      <td>PORTLAND INTL (OR)</td>\n",
       "      <td>AAL</td>\n",
       "      <td>AMERICAN AIRLINES</td>\n",
       "      <td>MD-80</td>\n",
       "      <td>Unknown bird - medium</td>\n",
       "      <td>UNKBM</td>\n",
       "      <td>...</td>\n",
       "      <td>NaN</td>\n",
       "      <td>PACIR</td>\n",
       "      <td>Tower</td>\n",
       "      <td>NaN</td>\n",
       "      <td>NaN</td>\n",
       "      <td>2000-07-14</td>\n",
       "      <td>False</td>\n",
       "      <td>0</td>\n",
       "      <td>1</td>\n",
       "      <td>0</td>\n",
       "    </tr>\n",
       "    <tr>\n",
       "      <th>...</th>\n",
       "      <td>...</td>\n",
       "      <td>...</td>\n",
       "      <td>...</td>\n",
       "      <td>...</td>\n",
       "      <td>...</td>\n",
       "      <td>...</td>\n",
       "      <td>...</td>\n",
       "      <td>...</td>\n",
       "      <td>...</td>\n",
       "      <td>...</td>\n",
       "      <td>...</td>\n",
       "      <td>...</td>\n",
       "      <td>...</td>\n",
       "      <td>...</td>\n",
       "      <td>...</td>\n",
       "      <td>...</td>\n",
       "      <td>...</td>\n",
       "      <td>...</td>\n",
       "      <td>...</td>\n",
       "      <td>...</td>\n",
       "      <td>...</td>\n",
       "    </tr>\n",
       "    <tr>\n",
       "      <th>205788</th>\n",
       "      <td>976091</td>\n",
       "      <td>2019-07-13</td>\n",
       "      <td>CO</td>\n",
       "      <td>KAPA</td>\n",
       "      <td>CENTENNIAL ARPT</td>\n",
       "      <td>BUS</td>\n",
       "      <td>BUSINESS</td>\n",
       "      <td>C-172</td>\n",
       "      <td>American kestrel</td>\n",
       "      <td>K5114</td>\n",
       "      <td>...</td>\n",
       "      <td>NaN</td>\n",
       "      <td>Multiple</td>\n",
       "      <td>Airport Operations</td>\n",
       "      <td>NaN</td>\n",
       "      <td>NaN</td>\n",
       "      <td>2020-05-14</td>\n",
       "      <td>False</td>\n",
       "      <td>0</td>\n",
       "      <td>1</td>\n",
       "      <td>0</td>\n",
       "    </tr>\n",
       "    <tr>\n",
       "      <th>205790</th>\n",
       "      <td>976109</td>\n",
       "      <td>2019-07-13</td>\n",
       "      <td>CA</td>\n",
       "      <td>KLVK</td>\n",
       "      <td>LIVERMORE MUNICIPAL ARPT</td>\n",
       "      <td>BUS</td>\n",
       "      <td>BUSINESS</td>\n",
       "      <td>C-152</td>\n",
       "      <td>Unknown bird - small</td>\n",
       "      <td>UNKBS</td>\n",
       "      <td>...</td>\n",
       "      <td>NaN</td>\n",
       "      <td>Daily Report</td>\n",
       "      <td>Tower</td>\n",
       "      <td>NaN</td>\n",
       "      <td>NaN</td>\n",
       "      <td>2020-05-14</td>\n",
       "      <td>False</td>\n",
       "      <td>1</td>\n",
       "      <td>0</td>\n",
       "      <td>0</td>\n",
       "    </tr>\n",
       "    <tr>\n",
       "      <th>205807</th>\n",
       "      <td>976199</td>\n",
       "      <td>2019-07-16</td>\n",
       "      <td>OR</td>\n",
       "      <td>KOTH</td>\n",
       "      <td>SOUTHWEST OREGON REGIONAL ARPT</td>\n",
       "      <td>SKW</td>\n",
       "      <td>SKYWEST AIRLINES</td>\n",
       "      <td>CRJ100/200</td>\n",
       "      <td>Unknown bird - small</td>\n",
       "      <td>UNKBS</td>\n",
       "      <td>...</td>\n",
       "      <td>NaN</td>\n",
       "      <td>Daily Report</td>\n",
       "      <td>Tower</td>\n",
       "      <td>NaN</td>\n",
       "      <td>NaN</td>\n",
       "      <td>2020-05-15</td>\n",
       "      <td>False</td>\n",
       "      <td>1</td>\n",
       "      <td>0</td>\n",
       "      <td>0</td>\n",
       "    </tr>\n",
       "    <tr>\n",
       "      <th>205808</th>\n",
       "      <td>976200</td>\n",
       "      <td>2019-07-16</td>\n",
       "      <td>NV</td>\n",
       "      <td>KLAS</td>\n",
       "      <td>MC CARRAN INTL ARPT</td>\n",
       "      <td>SWA</td>\n",
       "      <td>SOUTHWEST AIRLINES</td>\n",
       "      <td>B-737-800</td>\n",
       "      <td>Sparrows</td>\n",
       "      <td>ZX3</td>\n",
       "      <td>...</td>\n",
       "      <td>NaN</td>\n",
       "      <td>FAA Form 5200-7-E</td>\n",
       "      <td>Tower</td>\n",
       "      <td>NaN</td>\n",
       "      <td>NaN</td>\n",
       "      <td>2020-05-15</td>\n",
       "      <td>False</td>\n",
       "      <td>1</td>\n",
       "      <td>0</td>\n",
       "      <td>0</td>\n",
       "    </tr>\n",
       "    <tr>\n",
       "      <th>205810</th>\n",
       "      <td>976220</td>\n",
       "      <td>2019-07-15</td>\n",
       "      <td>TN</td>\n",
       "      <td>KTRI</td>\n",
       "      <td>TRI-CITIES REGIONAL TN/VA ARPT</td>\n",
       "      <td>SKW</td>\n",
       "      <td>SKYWEST AIRLINES</td>\n",
       "      <td>UNKNOWN</td>\n",
       "      <td>Unknown bird - small</td>\n",
       "      <td>UNKBS</td>\n",
       "      <td>...</td>\n",
       "      <td>NaN</td>\n",
       "      <td>FAA Form 5200-7-E</td>\n",
       "      <td>Airport Operations</td>\n",
       "      <td>NaN</td>\n",
       "      <td>NaN</td>\n",
       "      <td>2020-05-15</td>\n",
       "      <td>False</td>\n",
       "      <td>1</td>\n",
       "      <td>0</td>\n",
       "      <td>0</td>\n",
       "    </tr>\n",
       "  </tbody>\n",
       "</table>\n",
       "<p>130552 rows × 62 columns</p>\n",
       "</div>"
      ],
      "text/plain": [
       "        INDX_NR INCIDENT_DATE  STATE AIRPORT_ID  \\\n",
       "0        638332     2007-05-27    TX       KHOU   \n",
       "1        638333     2007-05-27   NaN       ZZZZ   \n",
       "2        638334     2000-08-06   NaN       ZZZZ   \n",
       "3        638335     2000-03-15    TX       KDAL   \n",
       "4        638336     2000-05-08    OR       KPDX   \n",
       "...         ...            ...   ...        ...   \n",
       "205788   976091     2019-07-13    CO       KAPA   \n",
       "205790   976109     2019-07-13    CA       KLVK   \n",
       "205807   976199     2019-07-16    OR       KOTH   \n",
       "205808   976200     2019-07-16    NV       KLAS   \n",
       "205810   976220     2019-07-15    TN       KTRI   \n",
       "\n",
       "                               AIRPORT OPERATOR_ID            OPERATOR  \\\n",
       "0                 WILLIAM P HOBBY ARPT         SWA  SOUTHWEST AIRLINES   \n",
       "1                              UNKNOWN         USA         1US AIRWAYS   \n",
       "2                              UNKNOWN         BUS            BUSINESS   \n",
       "3               DALLAS LOVE FIELD ARPT         SWA  SOUTHWEST AIRLINES   \n",
       "4                   PORTLAND INTL (OR)         AAL   AMERICAN AIRLINES   \n",
       "...                                ...         ...                 ...   \n",
       "205788                 CENTENNIAL ARPT         BUS            BUSINESS   \n",
       "205790        LIVERMORE MUNICIPAL ARPT         BUS            BUSINESS   \n",
       "205807  SOUTHWEST OREGON REGIONAL ARPT         SKW    SKYWEST AIRLINES   \n",
       "205808             MC CARRAN INTL ARPT         SWA  SOUTHWEST AIRLINES   \n",
       "205810  TRI-CITIES REGIONAL TN/VA ARPT         SKW    SKYWEST AIRLINES   \n",
       "\n",
       "          AIRCRAFT                SPECIES SPECIES_ID  ...  \\\n",
       "0        B-737-300     Eastern meadowlark      ZT001  ...   \n",
       "1        B-737-400                  Gulls        NE1  ...   \n",
       "2            BE-33   Unknown bird - small      UNKBS  ...   \n",
       "3        B-737-300   Unknown bird - small      UNKBS  ...   \n",
       "4            MD-80  Unknown bird - medium      UNKBM  ...   \n",
       "...            ...                    ...        ...  ...   \n",
       "205788       C-172       American kestrel      K5114  ...   \n",
       "205790       C-152   Unknown bird - small      UNKBS  ...   \n",
       "205807  CRJ100/200   Unknown bird - small      UNKBS  ...   \n",
       "205808   B-737-800               Sparrows        ZX3  ...   \n",
       "205810     UNKNOWN   Unknown bird - small      UNKBS  ...   \n",
       "\n",
       "                                                  COMMENT             SOURCE  \\\n",
       "0       TWO XXXX-X (XXXX-X-XX-XXXXXX & X-X-XXXXXX) /Le...  FAA Form 5200-7-E   \n",
       "1                                                     NaN    FAA Form 5200-7   \n",
       "2                                                     NaN    FAA Form 5200-7   \n",
       "3                                                     NaN    FAA Form 5200-7   \n",
       "4                                                     NaN              PACIR   \n",
       "...                                                   ...                ...   \n",
       "205788                                                NaN           Multiple   \n",
       "205790                                                NaN       Daily Report   \n",
       "205807                                                NaN       Daily Report   \n",
       "205808                                                NaN  FAA Form 5200-7-E   \n",
       "205810                                                NaN  FAA Form 5200-7-E   \n",
       "\n",
       "                          PERSON  NR_INJURIES  NR_FATALITIES     LUPDATE  \\\n",
       "0                          Pilot          NaN            NaN  2007-08-21   \n",
       "1       Air Transport Operations          NaN            NaN  2007-08-21   \n",
       "2                          Pilot          NaN            NaN  2000-10-06   \n",
       "3                            NaN          NaN            NaN  2000-05-17   \n",
       "4                          Tower          NaN            NaN  2000-07-14   \n",
       "...                          ...          ...            ...         ...   \n",
       "205788        Airport Operations          NaN            NaN  2020-05-14   \n",
       "205790                     Tower          NaN            NaN  2020-05-14   \n",
       "205807                     Tower          NaN            NaN  2020-05-15   \n",
       "205808                     Tower          NaN            NaN  2020-05-15   \n",
       "205810        Airport Operations          NaN            NaN  2020-05-15   \n",
       "\n",
       "        INDICATED_DAMAGE small  medium  large  \n",
       "0                   True     0       1      0  \n",
       "1                   True     0       0      1  \n",
       "2                   True     1       0      0  \n",
       "3                  False     1       0      0  \n",
       "4                  False     0       1      0  \n",
       "...                  ...   ...     ...    ...  \n",
       "205788             False     0       1      0  \n",
       "205790             False     1       0      0  \n",
       "205807             False     1       0      0  \n",
       "205808             False     1       0      0  \n",
       "205810             False     1       0      0  \n",
       "\n",
       "[130552 rows x 62 columns]"
      ]
     },
     "execution_count": 27,
     "metadata": {},
     "output_type": "execute_result"
    }
   ],
   "source": [
    "df_reduced"
   ]
  },
  {
   "cell_type": "code",
   "execution_count": 28,
   "metadata": {},
   "outputs": [],
   "source": [
    "df_reduced['on_approach'] = df_reduced.PHASE_OF_FLIGHT.isin(['Approach']).astype(int)"
   ]
  },
  {
   "cell_type": "code",
   "execution_count": 29,
   "metadata": {},
   "outputs": [
    {
     "data": {
      "text/plain": [
       "0    93711\n",
       "1    36841\n",
       "Name: on_approach, dtype: int64"
      ]
     },
     "execution_count": 29,
     "metadata": {},
     "output_type": "execute_result"
    }
   ],
   "source": [
    "df_reduced.on_approach.value_counts()"
   ]
  },
  {
   "cell_type": "code",
   "execution_count": 30,
   "metadata": {},
   "outputs": [],
   "source": [
    "df_reduced.HEIGHT = df_reduced.HEIGHT.fillna(0)"
   ]
  },
  {
   "cell_type": "code",
   "execution_count": 31,
   "metadata": {},
   "outputs": [
    {
     "data": {
      "text/plain": [
       "0.0       85350\n",
       "100.0      3430\n",
       "50.0       3127\n",
       "500.0      2805\n",
       "200.0      2673\n",
       "          ...  \n",
       "1306.0        1\n",
       "583.0         1\n",
       "1240.0        1\n",
       "1990.0        1\n",
       "71.0          1\n",
       "Name: HEIGHT, Length: 475, dtype: int64"
      ]
     },
     "execution_count": 31,
     "metadata": {},
     "output_type": "execute_result"
    }
   ],
   "source": [
    "df_reduced.HEIGHT.value_counts()"
   ]
  },
  {
   "cell_type": "code",
   "execution_count": 32,
   "metadata": {},
   "outputs": [
    {
     "data": {
      "text/plain": [
       "N          82686\n",
       "M           3258\n",
       "M?          1990\n",
       "S            994\n",
       "Class E      136\n",
       "D             38\n",
       "Class C       33\n",
       "Class B        3\n",
       "Name: DAMAGE, dtype: int64"
      ]
     },
     "execution_count": 32,
     "metadata": {},
     "output_type": "execute_result"
    }
   ],
   "source": [
    "df_reduced.DAMAGE.value_counts()"
   ]
  },
  {
   "cell_type": "code",
   "execution_count": 33,
   "metadata": {},
   "outputs": [],
   "source": [
    "df_reduced['high_damage'] = df_reduced.DAMAGE.isin(['S','D']).astype(int)"
   ]
  },
  {
   "cell_type": "code",
   "execution_count": 34,
   "metadata": {},
   "outputs": [],
   "source": [
    "df_reduced['damaged'] = df_reduced.DAMAGE.isin(['S','D','M','M?']).astype(int)"
   ]
  },
  {
   "cell_type": "code",
   "execution_count": 35,
   "metadata": {},
   "outputs": [],
   "source": [
    "from sklearn.model_selection import train_test_split\n",
    "\n",
    "X_train, X_test, y_train, y_test = train_test_split(\n",
    "    df_reduced[['small','large','on_approach','HEIGHT','PRECIP_SNOW','PRECIP_RAIN','PRECIP_FOG']],\n",
    "    df_reduced['damaged'], test_size=0.2, random_state=440, stratify = df_reduced['damaged'])\n"
   ]
  },
  {
   "cell_type": "code",
   "execution_count": 36,
   "metadata": {},
   "outputs": [],
   "source": [
    "train = X_train.copy()\n",
    "train['damaged'] = y_train"
   ]
  },
  {
   "cell_type": "code",
   "execution_count": 37,
   "metadata": {},
   "outputs": [
    {
     "data": {
      "text/html": [
       "<div>\n",
       "<style scoped>\n",
       "    .dataframe tbody tr th:only-of-type {\n",
       "        vertical-align: middle;\n",
       "    }\n",
       "\n",
       "    .dataframe tbody tr th {\n",
       "        vertical-align: top;\n",
       "    }\n",
       "\n",
       "    .dataframe thead th {\n",
       "        text-align: right;\n",
       "    }\n",
       "</style>\n",
       "<table border=\"1\" class=\"dataframe\">\n",
       "  <thead>\n",
       "    <tr style=\"text-align: right;\">\n",
       "      <th></th>\n",
       "      <th>small</th>\n",
       "      <th>large</th>\n",
       "      <th>on_approach</th>\n",
       "      <th>HEIGHT</th>\n",
       "      <th>PRECIP_SNOW</th>\n",
       "      <th>PRECIP_RAIN</th>\n",
       "      <th>PRECIP_FOG</th>\n",
       "      <th>damaged</th>\n",
       "    </tr>\n",
       "  </thead>\n",
       "  <tbody>\n",
       "    <tr>\n",
       "      <th>small</th>\n",
       "      <td>1.000000</td>\n",
       "      <td>-0.239680</td>\n",
       "      <td>0.116058</td>\n",
       "      <td>0.023992</td>\n",
       "      <td>0.009197</td>\n",
       "      <td>0.008564</td>\n",
       "      <td>0.005973</td>\n",
       "      <td>-0.121444</td>\n",
       "    </tr>\n",
       "    <tr>\n",
       "      <th>large</th>\n",
       "      <td>-0.239680</td>\n",
       "      <td>1.000000</td>\n",
       "      <td>0.034118</td>\n",
       "      <td>0.033397</td>\n",
       "      <td>0.005910</td>\n",
       "      <td>0.079014</td>\n",
       "      <td>0.030852</td>\n",
       "      <td>0.192204</td>\n",
       "    </tr>\n",
       "    <tr>\n",
       "      <th>on_approach</th>\n",
       "      <td>0.116058</td>\n",
       "      <td>0.034118</td>\n",
       "      <td>1.000000</td>\n",
       "      <td>0.228598</td>\n",
       "      <td>-0.001428</td>\n",
       "      <td>0.036470</td>\n",
       "      <td>0.031079</td>\n",
       "      <td>0.033663</td>\n",
       "    </tr>\n",
       "    <tr>\n",
       "      <th>HEIGHT</th>\n",
       "      <td>0.023992</td>\n",
       "      <td>0.033397</td>\n",
       "      <td>0.228598</td>\n",
       "      <td>1.000000</td>\n",
       "      <td>-0.004017</td>\n",
       "      <td>-0.014782</td>\n",
       "      <td>-0.009278</td>\n",
       "      <td>0.093653</td>\n",
       "    </tr>\n",
       "    <tr>\n",
       "      <th>PRECIP_SNOW</th>\n",
       "      <td>0.009197</td>\n",
       "      <td>0.005910</td>\n",
       "      <td>-0.001428</td>\n",
       "      <td>-0.004017</td>\n",
       "      <td>1.000000</td>\n",
       "      <td>0.011438</td>\n",
       "      <td>0.017929</td>\n",
       "      <td>0.008998</td>\n",
       "    </tr>\n",
       "    <tr>\n",
       "      <th>PRECIP_RAIN</th>\n",
       "      <td>0.008564</td>\n",
       "      <td>0.079014</td>\n",
       "      <td>0.036470</td>\n",
       "      <td>-0.014782</td>\n",
       "      <td>0.011438</td>\n",
       "      <td>1.000000</td>\n",
       "      <td>0.068778</td>\n",
       "      <td>0.019391</td>\n",
       "    </tr>\n",
       "    <tr>\n",
       "      <th>PRECIP_FOG</th>\n",
       "      <td>0.005973</td>\n",
       "      <td>0.030852</td>\n",
       "      <td>0.031079</td>\n",
       "      <td>-0.009278</td>\n",
       "      <td>0.017929</td>\n",
       "      <td>0.068778</td>\n",
       "      <td>1.000000</td>\n",
       "      <td>0.012454</td>\n",
       "    </tr>\n",
       "    <tr>\n",
       "      <th>damaged</th>\n",
       "      <td>-0.121444</td>\n",
       "      <td>0.192204</td>\n",
       "      <td>0.033663</td>\n",
       "      <td>0.093653</td>\n",
       "      <td>0.008998</td>\n",
       "      <td>0.019391</td>\n",
       "      <td>0.012454</td>\n",
       "      <td>1.000000</td>\n",
       "    </tr>\n",
       "  </tbody>\n",
       "</table>\n",
       "</div>"
      ],
      "text/plain": [
       "                small     large  on_approach    HEIGHT  PRECIP_SNOW  \\\n",
       "small        1.000000 -0.239680     0.116058  0.023992     0.009197   \n",
       "large       -0.239680  1.000000     0.034118  0.033397     0.005910   \n",
       "on_approach  0.116058  0.034118     1.000000  0.228598    -0.001428   \n",
       "HEIGHT       0.023992  0.033397     0.228598  1.000000    -0.004017   \n",
       "PRECIP_SNOW  0.009197  0.005910    -0.001428 -0.004017     1.000000   \n",
       "PRECIP_RAIN  0.008564  0.079014     0.036470 -0.014782     0.011438   \n",
       "PRECIP_FOG   0.005973  0.030852     0.031079 -0.009278     0.017929   \n",
       "damaged     -0.121444  0.192204     0.033663  0.093653     0.008998   \n",
       "\n",
       "             PRECIP_RAIN  PRECIP_FOG   damaged  \n",
       "small           0.008564    0.005973 -0.121444  \n",
       "large           0.079014    0.030852  0.192204  \n",
       "on_approach     0.036470    0.031079  0.033663  \n",
       "HEIGHT         -0.014782   -0.009278  0.093653  \n",
       "PRECIP_SNOW     0.011438    0.017929  0.008998  \n",
       "PRECIP_RAIN     1.000000    0.068778  0.019391  \n",
       "PRECIP_FOG      0.068778    1.000000  0.012454  \n",
       "damaged         0.019391    0.012454  1.000000  "
      ]
     },
     "execution_count": 37,
     "metadata": {},
     "output_type": "execute_result"
    }
   ],
   "source": [
    "train.corr()"
   ]
  },
  {
   "cell_type": "code",
   "execution_count": 38,
   "metadata": {},
   "outputs": [
    {
     "data": {
      "image/png": "[encoded data removed]",
      "text/plain": [
       "<Figure size 864x864 with 64 Axes>"
      ]
     },
     "metadata": {},
     "output_type": "display_data"
    }
   ],
   "source": [
    "from pandas.plotting import scatter_matrix\n",
    "\n",
    "scatter_matrix(train,figsize=(12,12))\n",
    "plt.show()"
   ]
  },
  {
   "cell_type": "code",
   "execution_count": 39,
   "metadata": {},
   "outputs": [
    {
     "data": {
      "text/plain": [
       "0.04810371405865513"
      ]
     },
     "execution_count": 39,
     "metadata": {},
     "output_type": "execute_result"
    }
   ],
   "source": [
    "sum(y_train)/len(y_train)"
   ]
  },
  {
   "cell_type": "code",
   "execution_count": 40,
   "metadata": {},
   "outputs": [
    {
     "data": {
      "text/plain": [
       "0.04810233235035043"
      ]
     },
     "execution_count": 40,
     "metadata": {},
     "output_type": "execute_result"
    }
   ],
   "source": [
    "sum(y_test)/len(y_test)"
   ]
  },
  {
   "cell_type": "code",
   "execution_count": 41,
   "metadata": {},
   "outputs": [
    {
     "data": {
      "image/png": "[encoded data removed]",
      "text/plain": [
       "<Figure size 720x720 with 1 Axes>"
      ]
     },
     "metadata": {},
     "output_type": "display_data"
    }
   ],
   "source": [
    "from sklearn import tree\n",
    "from sklearn.tree import DecisionTreeClassifier\n",
    "\n",
    "tree_clf = DecisionTreeClassifier(random_state = 440)\n",
    "\n",
    "plt.figure(figsize = (10,10))\n",
    "\n",
    "fig = tree_clf.fit(train[['small','large','on_approach','HEIGHT','PRECIP_SNOW','PRECIP_RAIN','PRECIP_FOG']], y_train)\n",
    "tree.plot_tree(fig,filled = True)\n",
    "plt.show()"
   ]
  },
  {
   "cell_type": "code",
   "execution_count": 47,
   "metadata": {},
   "outputs": [
    {
     "data": {
      "text/plain": [
       "RandomForestClassifier(bootstrap=True, ccp_alpha=0.0, class_weight='balanced',\n",
       "                       criterion='gini', max_depth=20, max_features='auto',\n",
       "                       max_leaf_nodes=None, max_samples=None,\n",
       "                       min_impurity_decrease=0.0, min_impurity_split=None,\n",
       "                       min_samples_leaf=1, min_samples_split=2,\n",
       "                       min_weight_fraction_leaf=0.0, n_estimators=100,\n",
       "                       n_jobs=None, oob_score=False, random_state=None,\n",
       "                       verbose=0, warm_start=False)"
      ]
     },
     "execution_count": 47,
     "metadata": {},
     "output_type": "execute_result"
    }
   ],
   "source": [
    "from sklearn.ensemble import RandomForestClassifier\n",
    "\n",
    "forest_clf = RandomForestClassifier(max_depth = 20, n_estimators = 100 ,class_weight='balanced')\n",
    "\n",
    "forest_clf.fit(X_train,y_train)"
   ]
  },
  {
   "cell_type": "code",
   "execution_count": 48,
   "metadata": {},
   "outputs": [
    {
     "data": {
      "text/plain": [
       "0.8057372104824734"
      ]
     },
     "execution_count": 48,
     "metadata": {},
     "output_type": "execute_result"
    }
   ],
   "source": [
    "sum(forest_clf.predict(X_train)==y_train)/len(y_train)"
   ]
  },
  {
   "cell_type": "code",
   "execution_count": 49,
   "metadata": {},
   "outputs": [
    {
     "data": {
      "text/plain": [
       "0.9518962859413449"
      ]
     },
     "execution_count": 49,
     "metadata": {},
     "output_type": "execute_result"
    }
   ],
   "source": [
    "1-sum(y_train)/len(y_train)"
   ]
  },
  {
   "cell_type": "code",
   "execution_count": 50,
   "metadata": {},
   "outputs": [
    {
     "data": {
      "text/plain": [
       "0.8032246945731684"
      ]
     },
     "execution_count": 50,
     "metadata": {},
     "output_type": "execute_result"
    }
   ],
   "source": [
    "sum(forest_clf.predict(X_test)==y_test)/len(y_test)"
   ]
  },
  {
   "cell_type": "code",
   "execution_count": 51,
   "metadata": {},
   "outputs": [
    {
     "data": {
      "text/plain": [
       "0.9518976676496496"
      ]
     },
     "execution_count": 51,
     "metadata": {},
     "output_type": "execute_result"
    }
   ],
   "source": [
    "1-sum(y_test)/len(y_test)"
   ]
  },
  {
   "cell_type": "code",
   "execution_count": 52,
   "metadata": {},
   "outputs": [],
   "source": [
    "from sklearn.ensemble import AdaBoostClassifier\n",
    "from sklearn.tree import DecisionTreeClassifier\n",
    "from sklearn.svm import SVC\n",
    "from sklearn import metrics"
   ]
  },
  {
   "cell_type": "code",
   "execution_count": 53,
   "metadata": {},
   "outputs": [
    {
     "data": {
      "text/plain": [
       "AdaBoostClassifier(algorithm='SAMME.R',\n",
       "                   base_estimator=DecisionTreeClassifier(ccp_alpha=0.0,\n",
       "                                                         class_weight=None,\n",
       "                                                         criterion='gini',\n",
       "                                                         max_depth=4,\n",
       "                                                         max_features=None,\n",
       "                                                         max_leaf_nodes=None,\n",
       "                                                         min_impurity_decrease=0.0,\n",
       "                                                         min_impurity_split=None,\n",
       "                                                         min_samples_leaf=1,\n",
       "                                                         min_samples_split=2,\n",
       "                                                         min_weight_fraction_leaf=0.0,\n",
       "                                                         presort='deprecated',\n",
       "                                                         random_state=None,\n",
       "                                                         splitter='best'),\n",
       "                   learning_rate=0.5, n_estimators=80, random_state=None)"
      ]
     },
     "execution_count": 53,
     "metadata": {},
     "output_type": "execute_result"
    }
   ],
   "source": [
    "#ada_clf = AdaBoostClassifier(SVC(probability=True, kernel='linear'),n_estimators = 80,algorithm=\"SAMME.R\",\n",
    "#                learning_rate = 1)\n",
    "\n",
    "ada_clf = AdaBoostClassifier(DecisionTreeClassifier(max_depth=4),n_estimators = 80,algorithm=\"SAMME.R\",\n",
    "                learning_rate = .5)\n",
    "\n",
    "ada_clf.fit(X_train,y_train)"
   ]
  },
  {
   "cell_type": "code",
   "execution_count": 54,
   "metadata": {},
   "outputs": [
    {
     "data": {
      "text/plain": [
       "0.9530931339225017"
      ]
     },
     "execution_count": 54,
     "metadata": {},
     "output_type": "execute_result"
    }
   ],
   "source": [
    "sum(ada_clf.predict(X_train)==y_train)/len(y_train)"
   ]
  },
  {
   "cell_type": "code",
   "execution_count": 55,
   "metadata": {},
   "outputs": [
    {
     "data": {
      "text/plain": [
       "0.9518962859413449"
      ]
     },
     "execution_count": 55,
     "metadata": {},
     "output_type": "execute_result"
    }
   ],
   "source": [
    "1-sum(y_train)/len(y_train)"
   ]
  },
  {
   "cell_type": "code",
   "execution_count": 56,
   "metadata": {},
   "outputs": [
    {
     "data": {
      "text/plain": [
       "0.9504806403431504"
      ]
     },
     "execution_count": 56,
     "metadata": {},
     "output_type": "execute_result"
    }
   ],
   "source": [
    "sum(ada_clf.predict(X_test)==y_test)/len(y_test)"
   ]
  },
  {
   "cell_type": "code",
   "execution_count": 57,
   "metadata": {},
   "outputs": [
    {
     "data": {
      "text/plain": [
       "0.9518976676496496"
      ]
     },
     "execution_count": 57,
     "metadata": {},
     "output_type": "execute_result"
    }
   ],
   "source": [
    "1-sum(y_test)/len(y_test)"
   ]
  },
  {
   "cell_type": "code",
   "execution_count": 58,
   "metadata": {},
   "outputs": [
    {
     "data": {
      "text/plain": [
       "0.06329617834394904"
      ]
     },
     "execution_count": 58,
     "metadata": {},
     "output_type": "execute_result"
    }
   ],
   "source": [
    "sum((ada_clf.predict(X_train)==1) & (y_train))/sum(y_train)"
   ]
  },
  {
   "cell_type": "code",
   "execution_count": 59,
   "metadata": {},
   "outputs": [
    {
     "data": {
      "text/plain": [
       "0.9980586821167406"
      ]
     },
     "execution_count": 59,
     "metadata": {},
     "output_type": "execute_result"
    }
   ],
   "source": [
    "sum((ada_clf.predict(X_train)==0) & (1-y_train))/sum(1-y_train)"
   ]
  },
  {
   "cell_type": "code",
   "execution_count": null,
   "metadata": {},
   "outputs": [],
   "source": [
    "\n"
   ]
  },
  {
   "cell_type": "code",
   "execution_count": null,
   "metadata": {},
   "outputs": [],
   "source": []
  }
 ],
 "metadata": {
  "kernelspec": {
   "display_name": "Python 3",
   "language": "python",
   "name": "python3"
  },
  "language_info": {
   "codemirror_mode": {
    "name": "ipython",
    "version": 3
   },
   "file_extension": ".py",
   "mimetype": "text/x-python",
   "name": "python",
   "nbconvert_exporter": "python",
   "pygments_lexer": "ipython3",
   "version": "3.7.4"
  }
 },
 "nbformat": 4,
 "nbformat_minor": 4
}
